{
 "cells": [
  {
   "cell_type": "code",
   "execution_count": 1,
   "id": "5e341c33",
   "metadata": {
    "ExecuteTime": {
     "end_time": "2022-12-08T22:13:31.840437Z",
     "start_time": "2022-12-08T22:13:31.819757Z"
    },
    "execution": {
     "iopub.execute_input": "2023-08-28T01:01:49.124329Z",
     "iopub.status.busy": "2023-08-28T01:01:49.123693Z",
     "iopub.status.idle": "2023-08-28T01:01:49.147368Z",
     "shell.execute_reply": "2023-08-28T01:01:49.146356Z",
     "shell.execute_reply.started": "2023-08-28T01:01:49.124275Z"
    }
   },
   "outputs": [],
   "source": [
    "%load_ext autoreload\n",
    "%autoreload 2"
   ]
  },
  {
   "cell_type": "code",
   "execution_count": 2,
   "id": "8c09a68a",
   "metadata": {
    "ExecuteTime": {
     "end_time": "2022-12-08T22:13:32.057222Z",
     "start_time": "2022-12-08T22:13:32.035555Z"
    },
    "execution": {
     "iopub.execute_input": "2023-08-28T01:01:49.586263Z",
     "iopub.status.busy": "2023-08-28T01:01:49.585838Z",
     "iopub.status.idle": "2023-08-28T01:01:49.597746Z",
     "shell.execute_reply": "2023-08-28T01:01:49.596717Z",
     "shell.execute_reply.started": "2023-08-28T01:01:49.586229Z"
    }
   },
   "outputs": [],
   "source": [
    "# from IPython.core.display import display, HTML, clear_output\n",
    "# display(HTML(\"<style>.container { width:100% !important; }</style>\"))"
   ]
  },
  {
   "cell_type": "code",
   "execution_count": 3,
   "id": "abb0045c",
   "metadata": {
    "ExecuteTime": {
     "end_time": "2022-12-08T22:13:33.066425Z",
     "start_time": "2022-12-08T22:13:33.043448Z"
    },
    "execution": {
     "iopub.execute_input": "2023-08-28T01:01:50.137845Z",
     "iopub.status.busy": "2023-08-28T01:01:50.137309Z",
     "iopub.status.idle": "2023-08-28T01:01:50.998088Z",
     "shell.execute_reply": "2023-08-28T01:01:50.996991Z",
     "shell.execute_reply.started": "2023-08-28T01:01:50.137811Z"
    }
   },
   "outputs": [],
   "source": [
    "import pandas as pd\n",
    "import numpy as np\n",
    "from scipy import optimize\n",
    "from scipy.stats import sem\n",
    "\n",
    "import os\n",
    "import sys\n",
    "\n",
    "import matplotlib.pyplot as plt\n",
    "import matplotlib.ticker\n",
    "from matplotlib.patches import Rectangle\n",
    "from matplotlib.colors import ListedColormap, BoundaryNorm\n",
    "\n",
    "from venn import venn, pseudovenn\n",
    "import seaborn as sns\n",
    "\n",
    "from Bio import SeqIO, SeqUtils\n",
    "\n",
    "from addict import Dict\n",
    "\n",
    "import math"
   ]
  },
  {
   "cell_type": "code",
   "execution_count": 4,
   "id": "8cb5c72b",
   "metadata": {
    "ExecuteTime": {
     "end_time": "2022-12-08T15:16:05.686253Z",
     "start_time": "2022-12-08T15:16:05.670419Z"
    },
    "execution": {
     "iopub.execute_input": "2023-08-28T01:02:00.643713Z",
     "iopub.status.busy": "2023-08-28T01:02:00.642714Z",
     "iopub.status.idle": "2023-08-28T01:02:00.660509Z",
     "shell.execute_reply": "2023-08-28T01:02:00.659492Z",
     "shell.execute_reply.started": "2023-08-28T01:02:00.643690Z"
    }
   },
   "outputs": [],
   "source": [
    "sys.path.append(\"../\")\n",
    "import plotting as my_plot\n",
    "\n",
    "sys.path.append(\"./mean_field_elect/\")\n",
    "import proteomics_functions as prot_fun"
   ]
  },
  {
   "cell_type": "code",
   "execution_count": null,
   "id": "8825e92c",
   "metadata": {},
   "outputs": [],
   "source": []
  },
  {
   "cell_type": "markdown",
   "id": "17b8131c",
   "metadata": {},
   "source": [
    "# Difficult to remove (includes high-risk)"
   ]
  },
  {
   "cell_type": "code",
   "execution_count": 9,
   "id": "5102ffcb",
   "metadata": {
    "ExecuteTime": {
     "end_time": "2022-12-08T15:29:52.384920Z",
     "start_time": "2022-12-08T15:29:52.344995Z"
    }
   },
   "outputs": [],
   "source": [
    "df_master = pd.read_csv('./generated_tables/df_master_dda_with_mean_properties.csv')"
   ]
  },
  {
   "cell_type": "code",
   "execution_count": 10,
   "id": "8ab6843d",
   "metadata": {
    "ExecuteTime": {
     "end_time": "2022-12-08T15:30:02.002215Z",
     "start_time": "2022-12-08T15:29:52.880165Z"
    }
   },
   "outputs": [],
   "source": [
    "prot_fun.get_name_matches(df_master, './lit_data/biophorum_clean.csv', 'Biophorum DTR')\n",
    "prot_fun.get_name_matches(df_master, './lit_data/biophorum_high_risk_clean.csv', 'Biophorum high-risk')\n",
    "prot_fun.get_name_matches(df_master, './lit_data/levy_2014_clean.csv', 'Levy 2014 - Association')\n",
    "prot_fun.get_name_matches(df_master, './lit_data/zhang_table_2_clean.csv', 'Zhang 2016 - Pro A')\n",
    "prot_fun.get_name_matches(df_master, './lit_data/levy_2016_clean.csv', 'Levy 2016 - Coelution')\n",
    "prot_fun.get_name_matches(df_master, './lit_data/molden_clean.csv', 'Molden 2021 - 29 DS')\n",
    "prot_fun.get_name_matches(df_master, './lit_data/falkenberg_table_4_clean.csv', 'Falkenberg 2019 - 6 DS')\n",
    "prot_fun.get_name_matches(df_master, './lit_data/kreimer_table_1_clean.csv', 'Kreimer 2017 - 1 DS')\n",
    "prot_fun.get_name_matches(df_master, './lit_data/aboulaich_table_1_clean.csv', 'Aboulaich 2014 - Association')"
   ]
  },
  {
   "cell_type": "code",
   "execution_count": 14,
   "id": "5071462c",
   "metadata": {
    "ExecuteTime": {
     "end_time": "2022-12-08T15:34:06.534285Z",
     "start_time": "2022-12-08T15:34:06.503715Z"
    }
   },
   "outputs": [],
   "source": [
    "papers = ['Biophorum DTR', 'Biophorum high-risk', 'Levy 2014 - Association', 'Zhang 2016 - Pro A', \n",
    "          'Levy 2016 - Coelution', 'Molden 2021 - 29 DS', 'Falkenberg 2019 - 6 DS', 'Kreimer 2017 - 1 DS',\n",
    "          'Aboulaich 2014 - Association']\n",
    "\n",
    "df_dtr = df_master[(df_master[papers[0]].notnull()) |\n",
    "                   (df_master[papers[1]].notnull()) |\n",
    "                   (df_master[papers[2]].notnull()) |\n",
    "                   (df_master[papers[3]].notnull()) |\n",
    "                   (df_master[papers[4]].notnull()) |\n",
    "                   (df_master[papers[5]].notnull()) |\n",
    "                   (df_master[papers[6]].notnull()) |\n",
    "                   (df_master[papers[7]].notnull()) |\n",
    "                   (df_master[papers[8]].notnull()) ]\n",
    "\n",
    "df_dtr.reset_index(inplace=True, drop=True)"
   ]
  },
  {
   "cell_type": "code",
   "execution_count": 17,
   "id": "f409174f",
   "metadata": {
    "ExecuteTime": {
     "end_time": "2022-12-08T15:35:20.259826Z",
     "start_time": "2022-12-08T15:35:20.231942Z"
    }
   },
   "outputs": [],
   "source": [
    "df_dtr.sort_values(by=['perfect_match', 'contains_actin', 'contains_ubiquitin'], inplace=True)\n",
    "\n",
    "df_dtr = df_dtr[['accn', 'name', 'cq_g12', 'cq_eluate', 'hq_g12', 'hq_eluate', 'xq_g12',\n",
    "                   'xq_eluate', 'pI_mean', 'mass_mean', 'net_charge_mean',\n",
    "                   'net_charge_neg_mean', 'net_charge_pos_mean', 'charge_dens_C_m2_mean',\n",
    "                   'charge_dens_neg_C_m2_mean', 'charge_dens_pos_C_m2_mean',\n",
    "                   'cysteine_cont_percent_mean', 'cysteine_num_mean', 'desc_lower',\n",
    "                   'perfect_match', 'contains_actin', 'contains_ubiquitin',\n",
    "                   'desc_lower_2', 'Biophorum DTR', 'Biophorum high-risk',\n",
    "                   'Levy 2014 - Association', 'Zhang 2016 - Pro A',\n",
    "                   'Levy 2016 - Coelution', 'Molden 2021 - 29 DS',\n",
    "                   'Falkenberg 2019 - 6 DS', 'Kreimer 2017 - 1 DS',\n",
    "                   'Aboulaich 2014 - Association']]"
   ]
  },
  {
   "cell_type": "code",
   "execution_count": 20,
   "id": "c4e8f774",
   "metadata": {
    "ExecuteTime": {
     "end_time": "2022-12-08T15:35:43.908040Z",
     "start_time": "2022-12-08T15:35:43.879791Z"
    }
   },
   "outputs": [],
   "source": [
    "df_dtr.to_csv('./generated_tables/difficult_to_remove_unreviewed.csv', index=False)"
   ]
  },
  {
   "cell_type": "code",
   "execution_count": null,
   "id": "813db420",
   "metadata": {},
   "outputs": [],
   "source": []
  },
  {
   "cell_type": "markdown",
   "id": "4a5d85fd",
   "metadata": {},
   "source": [
    "# Add impact to high-risk"
   ]
  },
  {
   "cell_type": "code",
   "execution_count": 30,
   "id": "8bea8676",
   "metadata": {
    "ExecuteTime": {
     "end_time": "2022-12-08T22:18:57.647284Z",
     "start_time": "2022-12-08T22:18:57.563212Z"
    }
   },
   "outputs": [],
   "source": [
    "df_dtr = pd.read_csv('./generated_tables/difficult_to_remove_reviewed.csv')\n",
    "df_risk = df_dtr[df_dtr['Biophorum high-risk'].notnull()].copy()\n",
    "\n",
    "path = './lit_data/biophorum_high_risk_clean.csv'\n",
    "df_lit = pd.read_csv(path)\n",
    "\n",
    "for i, cont in df_risk.iterrows():\n",
    "    for col in ['impact', 'impact_type', 'function']:\n",
    "        data = df_lit.loc[df_lit.desc_lower_2 == cont['Biophorum high-risk'], col].iloc[0] \n",
    "        df_risk.at[i, col] = data\n",
    "        \n",
    "df_risk.to_csv('./generated_tables/high_risk.csv', index=False)"
   ]
  },
  {
   "cell_type": "code",
   "execution_count": null,
   "id": "5da3dd87",
   "metadata": {},
   "outputs": [],
   "source": []
  },
  {
   "cell_type": "code",
   "execution_count": null,
   "id": "7e1085bd",
   "metadata": {},
   "outputs": [],
   "source": []
  },
  {
   "cell_type": "code",
   "execution_count": null,
   "id": "7a237980",
   "metadata": {},
   "outputs": [],
   "source": []
  },
  {
   "cell_type": "code",
   "execution_count": null,
   "id": "a2ab65d8",
   "metadata": {},
   "outputs": [],
   "source": []
  },
  {
   "cell_type": "code",
   "execution_count": null,
   "id": "a8df9609",
   "metadata": {},
   "outputs": [],
   "source": []
  },
  {
   "cell_type": "code",
   "execution_count": null,
   "id": "bfeea86a",
   "metadata": {},
   "outputs": [],
   "source": []
  },
  {
   "cell_type": "code",
   "execution_count": null,
   "id": "d52f9bf0",
   "metadata": {},
   "outputs": [],
   "source": []
  },
  {
   "cell_type": "code",
   "execution_count": null,
   "id": "d9f87e76",
   "metadata": {},
   "outputs": [],
   "source": []
  },
  {
   "cell_type": "code",
   "execution_count": null,
   "id": "fdf5eb76",
   "metadata": {},
   "outputs": [],
   "source": []
  },
  {
   "cell_type": "code",
   "execution_count": null,
   "id": "a7ddaeba",
   "metadata": {},
   "outputs": [],
   "source": []
  },
  {
   "cell_type": "code",
   "execution_count": null,
   "id": "cc28dc76",
   "metadata": {},
   "outputs": [],
   "source": []
  },
  {
   "cell_type": "code",
   "execution_count": null,
   "id": "7951f5a1",
   "metadata": {},
   "outputs": [],
   "source": []
  },
  {
   "cell_type": "code",
   "execution_count": null,
   "id": "43ed6298",
   "metadata": {},
   "outputs": [],
   "source": []
  }
 ],
 "metadata": {
  "kernelspec": {
   "display_name": "Python 3 (ipykernel)",
   "language": "python",
   "name": "python3"
  },
  "language_info": {
   "codemirror_mode": {
    "name": "ipython",
    "version": 3
   },
   "file_extension": ".py",
   "mimetype": "text/x-python",
   "name": "python",
   "nbconvert_exporter": "python",
   "pygments_lexer": "ipython3",
   "version": "3.11.5"
  }
 },
 "nbformat": 4,
 "nbformat_minor": 5
}
