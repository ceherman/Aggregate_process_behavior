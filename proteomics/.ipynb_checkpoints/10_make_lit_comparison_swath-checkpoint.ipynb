{
 "cells": [
  {
   "cell_type": "code",
   "execution_count": 1,
   "id": "5e341c33",
   "metadata": {
    "ExecuteTime": {
     "end_time": "2023-04-06T14:59:19.663206Z",
     "start_time": "2023-04-06T14:59:19.642517Z"
    }
   },
   "outputs": [],
   "source": [
    "%load_ext autoreload\n",
    "%autoreload 2"
   ]
  },
  {
   "cell_type": "code",
   "execution_count": 2,
   "id": "8c09a68a",
   "metadata": {
    "ExecuteTime": {
     "end_time": "2023-04-06T14:59:19.878110Z",
     "start_time": "2023-04-06T14:59:19.857573Z"
    }
   },
   "outputs": [
    {
     "data": {
      "text/html": [
       "<style>.container { width:100% !important; }</style>"
      ],
      "text/plain": [
       "<IPython.core.display.HTML object>"
      ]
     },
     "metadata": {},
     "output_type": "display_data"
    }
   ],
   "source": [
    "from IPython.core.display import display, HTML, clear_output\n",
    "display(HTML(\"<style>.container { width:100% !important; }</style>\"))"
   ]
  },
  {
   "cell_type": "code",
   "execution_count": 3,
   "id": "abb0045c",
   "metadata": {
    "ExecuteTime": {
     "end_time": "2023-04-06T14:59:21.199982Z",
     "start_time": "2023-04-06T14:59:20.025242Z"
    }
   },
   "outputs": [],
   "source": [
    "import pandas as pd\n",
    "import numpy as np\n",
    "from scipy import optimize\n",
    "from scipy.stats import sem\n",
    "\n",
    "import os\n",
    "import sys\n",
    "\n",
    "import matplotlib.pyplot as plt\n",
    "import matplotlib.ticker\n",
    "from matplotlib.patches import Rectangle\n",
    "from matplotlib.colors import ListedColormap, BoundaryNorm\n",
    "\n",
    "from venn import venn, pseudovenn\n",
    "import seaborn as sns\n",
    "\n",
    "from Bio import SeqIO, SeqUtils\n",
    "\n",
    "from addict import Dict\n",
    "\n",
    "import math"
   ]
  },
  {
   "cell_type": "code",
   "execution_count": 4,
   "id": "8cb5c72b",
   "metadata": {
    "ExecuteTime": {
     "end_time": "2023-04-06T14:59:21.218246Z",
     "start_time": "2023-04-06T14:59:21.201946Z"
    }
   },
   "outputs": [],
   "source": [
    "sys.path.append(\"/home/chase/codes/python_functions/\")\n",
    "import plotting as my_plot\n",
    "\n",
    "import proteomics_functions as prot_fun"
   ]
  },
  {
   "cell_type": "code",
   "execution_count": null,
   "id": "8825e92c",
   "metadata": {},
   "outputs": [],
   "source": []
  },
  {
   "cell_type": "markdown",
   "id": "4d61ddee",
   "metadata": {},
   "source": [
    "# Prepare SWATH data"
   ]
  },
  {
   "cell_type": "code",
   "execution_count": 23,
   "id": "c0b586ef",
   "metadata": {
    "ExecuteTime": {
     "end_time": "2023-04-03T11:55:22.858939Z",
     "start_time": "2023-04-03T11:55:22.703614Z"
    }
   },
   "outputs": [],
   "source": [
    "df_master = pd.read_csv('./generated_tables/swath_master_df_ppm.csv')\n",
    "for i, cont in df_master.iterrows():\n",
    "    text = cont['name'].replace(' [Cricetulus griseus]', '')\n",
    "    text = text.lower()\n",
    "    text = text.replace('-', ' ')\n",
    "    text = text.replace('_', ' ')\n",
    "    text = text.replace(',', '')\n",
    "    df_master.at[i, 'desc_lower_2'] = text"
   ]
  },
  {
   "cell_type": "markdown",
   "id": "791bcf04",
   "metadata": {},
   "source": [
    "# High-risk HCPs "
   ]
  },
  {
   "cell_type": "code",
   "execution_count": 9,
   "id": "98fa2b5a",
   "metadata": {
    "ExecuteTime": {
     "end_time": "2023-04-03T11:44:28.041898Z",
     "start_time": "2023-04-03T11:44:28.026522Z"
    },
    "scrolled": true
   },
   "outputs": [],
   "source": [
    "# # Generate the high-risk candidate list\n",
    "# path = './lit_data/biophorum_high_risk_clean.csv'\n",
    "# df_lit = pd.read_csv(path)\n",
    "# prot_fun.get_name_matches(df_master, path, 'high_risk')\n",
    "# df_risk = df_master[df_master.high_risk.notnull()].copy()\n",
    "# df_risk.reset_index(drop=True, inplace=True)\n",
    "\n",
    "# for i, cont in df_risk.iterrows():\n",
    "#     for col in ['impact', 'impact_type', 'function']:\n",
    "#         data = df_lit.loc[df_lit.desc_lower_2 == cont.high_risk, col].iloc[0] \n",
    "#         df_risk.at[i, col] = data\n",
    "        \n",
    "# df_risk.to_csv('./generated_tables/high_risk_swath_unreviewed.csv', index=False)"
   ]
  },
  {
   "cell_type": "code",
   "execution_count": null,
   "id": "f06fe8ba",
   "metadata": {},
   "outputs": [],
   "source": []
  },
  {
   "cell_type": "markdown",
   "id": "17b8131c",
   "metadata": {},
   "source": [
    "# Difficult to remove"
   ]
  },
  {
   "cell_type": "code",
   "execution_count": 24,
   "id": "8ab6843d",
   "metadata": {
    "ExecuteTime": {
     "end_time": "2023-04-03T11:55:33.915873Z",
     "start_time": "2023-04-03T11:55:24.895567Z"
    }
   },
   "outputs": [],
   "source": [
    "prot_fun.get_name_matches(df_master, './lit_data/biophorum_clean.csv', 'Biophorum DTR')\n",
    "prot_fun.get_name_matches(df_master, './lit_data/biophorum_high_risk_clean.csv', 'Biophorum high-risk')\n",
    "prot_fun.get_name_matches(df_master, './lit_data/levy_2014_clean.csv', 'Levy 2014 - Association')\n",
    "prot_fun.get_name_matches(df_master, './lit_data/zhang_table_2_clean.csv', 'Zhang 2016 - Pro A')\n",
    "prot_fun.get_name_matches(df_master, './lit_data/levy_2016_clean.csv', 'Levy 2016 - Coelution')\n",
    "prot_fun.get_name_matches(df_master, './lit_data/molden_clean.csv', 'Molden 2021 - 29 DS')\n",
    "prot_fun.get_name_matches(df_master, './lit_data/falkenberg_table_4_clean.csv', 'Falkenberg 2019 - 6 DS')\n",
    "prot_fun.get_name_matches(df_master, './lit_data/kreimer_table_1_clean.csv', 'Kreimer 2017 - 1 DS')\n",
    "prot_fun.get_name_matches(df_master, './lit_data/aboulaich_table_1_clean.csv', 'Aboulaich 2014 - Association')"
   ]
  },
  {
   "cell_type": "code",
   "execution_count": 27,
   "id": "5071462c",
   "metadata": {
    "ExecuteTime": {
     "end_time": "2023-04-03T12:11:00.285225Z",
     "start_time": "2023-04-03T12:11:00.243126Z"
    }
   },
   "outputs": [],
   "source": [
    "papers = ['Biophorum DTR', 'Biophorum high-risk', 'Levy 2014 - Association', 'Zhang 2016 - Pro A', \n",
    "          'Levy 2016 - Coelution', 'Molden 2021 - 29 DS', 'Falkenberg 2019 - 6 DS', 'Kreimer 2017 - 1 DS',\n",
    "          'Aboulaich 2014 - Association']\n",
    "\n",
    "df_dtr = df_master[(df_master[papers[0]].notnull()) |\n",
    "                   (df_master[papers[1]].notnull()) |\n",
    "                   (df_master[papers[2]].notnull()) |\n",
    "                   (df_master[papers[3]].notnull()) |\n",
    "                   (df_master[papers[4]].notnull()) |\n",
    "                   (df_master[papers[5]].notnull()) |\n",
    "                   (df_master[papers[6]].notnull()) |\n",
    "                   (df_master[papers[7]].notnull()) |\n",
    "                   (df_master[papers[8]].notnull()) ].copy()\n",
    "\n",
    "df_dtr.reset_index(inplace=True, drop=True)\n",
    "df_dtr.sort_values(by=['perfect_match', 'contains_ubiquitin', 'contains_actin', 'desc_lower_2'], inplace=True)\n",
    "\n",
    "# To make the review easier - this requires manual attention\n",
    "\n",
    "df_dtr = df_dtr[['desc_lower_2', 'Biophorum DTR', 'Biophorum high-risk',\n",
    "                 'Levy 2014 - Association', 'Zhang 2016 - Pro A',\n",
    "                 'Levy 2016 - Coelution', 'Molden 2021 - 29 DS', \n",
    "                 'Falkenberg 2019 - 6 DS', 'Kreimer 2017 - 1 DS',\n",
    "                 'Aboulaich 2014 - Association', \n",
    "                 'perfect_match', 'contains_ubiquitin', 'contains_actin', \n",
    "                 'accn', 'name', 'cq_a5', 'cq_b12', 'cq_d9', 'cq_g12', 'cq_eluate',\n",
    "                 'xq_a5', 'xq_b12', 'xq_d9', 'xq_g12', 'xq_eluate', 'hq_a5', 'hq_b12',\n",
    "                 'hq_d9', 'hq_g12', 'hq_eluate']]\n",
    "\n",
    "df_dtr.to_csv('./generated_tables/difficult_to_remove_swath_unreviewed.csv', index=False)"
   ]
  },
  {
   "cell_type": "code",
   "execution_count": 42,
   "id": "d52f9bf0",
   "metadata": {
    "ExecuteTime": {
     "end_time": "2023-04-03T12:26:13.344789Z",
     "start_time": "2023-04-03T12:26:13.262182Z"
    }
   },
   "outputs": [],
   "source": [
    "# Add risk data - do this before manual review next time\n",
    "\n",
    "df = pd.read_csv('./generated_tables/difficult_to_remove_swath_reviewed_no_risk_data.csv')\n",
    "df_lit = pd.read_csv('./lit_data/biophorum_high_risk_clean.csv')\n",
    "\n",
    "risk_indeces = df[df[papers[1]].notnull()].index\n",
    "\n",
    "for i in risk_indeces:\n",
    "    desc_lower_2 = df.at[i, papers[1]]\n",
    "    for col in ['impact', 'impact_type', 'function']:\n",
    "        data = df_lit.loc[df_lit['desc_lower_2'] == desc_lower_2, col].iloc[0] \n",
    "        df.at[i, col] = data\n",
    "        \n",
    "# df.to_csv('./generated_tables/difficult_to_remove_swath_reviewed.csv', index=False)"
   ]
  },
  {
   "cell_type": "code",
   "execution_count": null,
   "id": "7951f5a1",
   "metadata": {},
   "outputs": [],
   "source": []
  },
  {
   "cell_type": "markdown",
   "id": "f232dc3f",
   "metadata": {},
   "source": [
    "# Save high-risk as a separate dataframe for the article"
   ]
  },
  {
   "cell_type": "code",
   "execution_count": 9,
   "id": "a4058a6f",
   "metadata": {
    "ExecuteTime": {
     "end_time": "2023-04-06T15:01:19.050857Z",
     "start_time": "2023-04-06T15:01:19.019797Z"
    }
   },
   "outputs": [],
   "source": [
    "# df = pd.read_csv('./generated_tables/difficult_to_remove_swath_reviewed.csv')\n",
    "# df[df['Biophorum high-risk'].notnull()].to_csv('./generated_tables/just_high_risk_swath_reviewed.csv')"
   ]
  },
  {
   "cell_type": "code",
   "execution_count": null,
   "id": "3fdfaebf",
   "metadata": {},
   "outputs": [],
   "source": []
  },
  {
   "cell_type": "code",
   "execution_count": null,
   "id": "6cb1d0e3",
   "metadata": {},
   "outputs": [],
   "source": []
  },
  {
   "cell_type": "code",
   "execution_count": null,
   "id": "a4c411ff",
   "metadata": {},
   "outputs": [],
   "source": []
  },
  {
   "cell_type": "code",
   "execution_count": null,
   "id": "58e96004",
   "metadata": {},
   "outputs": [],
   "source": []
  },
  {
   "cell_type": "code",
   "execution_count": null,
   "id": "05faa266",
   "metadata": {},
   "outputs": [],
   "source": []
  },
  {
   "cell_type": "code",
   "execution_count": null,
   "id": "aadc8579",
   "metadata": {},
   "outputs": [],
   "source": []
  },
  {
   "cell_type": "code",
   "execution_count": null,
   "id": "3788ba5d",
   "metadata": {},
   "outputs": [],
   "source": []
  },
  {
   "cell_type": "code",
   "execution_count": null,
   "id": "2f40f2ef",
   "metadata": {},
   "outputs": [],
   "source": []
  }
 ],
 "metadata": {
  "kernelspec": {
   "display_name": "Python 3 (ipykernel)",
   "language": "python",
   "name": "python3"
  },
  "language_info": {
   "codemirror_mode": {
    "name": "ipython",
    "version": 3
   },
   "file_extension": ".py",
   "mimetype": "text/x-python",
   "name": "python",
   "nbconvert_exporter": "python",
   "pygments_lexer": "ipython3",
   "version": "3.7.12"
  }
 },
 "nbformat": 4,
 "nbformat_minor": 5
}
