{
 "cells": [
  {
   "cell_type": "code",
   "execution_count": 5,
   "id": "909f848e",
   "metadata": {
    "ExecuteTime": {
     "end_time": "2023-04-03T01:49:49.601867Z",
     "start_time": "2023-04-03T01:49:49.576227Z"
    },
    "execution": {
     "iopub.execute_input": "2023-08-28T01:05:00.441868Z",
     "iopub.status.busy": "2023-08-28T01:05:00.441255Z",
     "iopub.status.idle": "2023-08-28T01:05:00.465091Z",
     "shell.execute_reply": "2023-08-28T01:05:00.464120Z",
     "shell.execute_reply.started": "2023-08-28T01:05:00.441840Z"
    }
   },
   "outputs": [
    {
     "name": "stdout",
     "output_type": "stream",
     "text": [
      "The autoreload extension is already loaded. To reload it, use:\n",
      "  %reload_ext autoreload\n"
     ]
    }
   ],
   "source": [
    "%load_ext autoreload\n",
    "%autoreload 2"
   ]
  },
  {
   "cell_type": "code",
   "execution_count": 6,
   "id": "9f97ec2c",
   "metadata": {
    "ExecuteTime": {
     "end_time": "2023-04-03T04:56:23.389602Z",
     "start_time": "2023-04-03T04:56:23.367861Z"
    },
    "execution": {
     "iopub.execute_input": "2023-08-28T01:05:00.914863Z",
     "iopub.status.busy": "2023-08-28T01:05:00.914504Z",
     "iopub.status.idle": "2023-08-28T01:05:00.930801Z",
     "shell.execute_reply": "2023-08-28T01:05:00.929895Z",
     "shell.execute_reply.started": "2023-08-28T01:05:00.914835Z"
    }
   },
   "outputs": [],
   "source": [
    "# from IPython.core.display import display, HTML, clear_output\n",
    "# display(HTML(\"<style>.container { width:100% !important; }</style>\"))"
   ]
  },
  {
   "cell_type": "code",
   "execution_count": 7,
   "id": "fc446931",
   "metadata": {
    "ExecuteTime": {
     "end_time": "2023-04-03T01:49:45.554884Z",
     "start_time": "2023-04-03T01:49:44.276519Z"
    },
    "execution": {
     "iopub.execute_input": "2023-08-28T01:05:01.177465Z",
     "iopub.status.busy": "2023-08-28T01:05:01.177053Z",
     "iopub.status.idle": "2023-08-28T01:05:01.196348Z",
     "shell.execute_reply": "2023-08-28T01:05:01.195492Z",
     "shell.execute_reply.started": "2023-08-28T01:05:01.177430Z"
    }
   },
   "outputs": [],
   "source": [
    "import pandas as pd\n",
    "import numpy as np\n",
    "from scipy import optimize\n",
    "from scipy.stats import sem\n",
    "\n",
    "import os\n",
    "import sys\n",
    "\n",
    "import matplotlib.pyplot as plt\n",
    "import matplotlib.ticker\n",
    "from venn import venn, pseudovenn\n",
    "import seaborn as sns\n",
    "from matplotlib.collections import PathCollection\n",
    "\n",
    "from Bio import SeqIO, SeqUtils, Seq\n",
    "from Bio.SeqUtils.ProtParam import ProteinAnalysis\n",
    "\n",
    "from addict import Dict\n",
    "import json"
   ]
  },
  {
   "cell_type": "code",
   "execution_count": 8,
   "id": "88cf7f0d",
   "metadata": {
    "ExecuteTime": {
     "end_time": "2023-04-03T01:49:46.748269Z",
     "start_time": "2023-04-03T01:49:46.735590Z"
    },
    "execution": {
     "iopub.execute_input": "2023-08-28T01:05:01.376706Z",
     "iopub.status.busy": "2023-08-28T01:05:01.376240Z",
     "iopub.status.idle": "2023-08-28T01:05:01.396477Z",
     "shell.execute_reply": "2023-08-28T01:05:01.395294Z",
     "shell.execute_reply.started": "2023-08-28T01:05:01.376668Z"
    }
   },
   "outputs": [],
   "source": [
    "sys.path.append(\"../\")\n",
    "import plotting as my_plot\n",
    "\n",
    "sys.path.append(\"./mean_field_elect/\")\n",
    "import proteomics_functions as prot_fun"
   ]
  },
  {
   "cell_type": "code",
   "execution_count": null,
   "id": "adc6c5e9",
   "metadata": {},
   "outputs": [],
   "source": []
  },
  {
   "cell_type": "markdown",
   "id": "9de76518",
   "metadata": {},
   "source": [
    "# Load data"
   ]
  },
  {
   "cell_type": "code",
   "execution_count": 9,
   "id": "8983e33b",
   "metadata": {
    "ExecuteTime": {
     "end_time": "2023-04-03T11:01:18.334835Z",
     "start_time": "2023-04-03T11:01:17.680621Z"
    },
    "execution": {
     "iopub.execute_input": "2023-08-28T01:05:02.153039Z",
     "iopub.status.busy": "2023-08-28T01:05:02.152633Z",
     "iopub.status.idle": "2023-08-28T01:05:02.732897Z",
     "shell.execute_reply": "2023-08-28T01:05:02.732197Z",
     "shell.execute_reply.started": "2023-08-28T01:05:02.153010Z"
    }
   },
   "outputs": [],
   "source": [
    "dfs = Dict()\n",
    "dfs_mab = Dict()\n",
    "\n",
    "file = pd.ExcelFile(f'./data/Chase SWATH 20221128.xlsx')\n",
    "dfs.cq.g12  = file.parse('CaptoQ 1G12')\n",
    "dfs.cq.eluate  = file.parse('CaptoQ Eluate')\n",
    "dfs.hq.a5 = file.parse('Poros50 HQ 1A05!') # short list method\n",
    "dfs.hq.g12  = file.parse('Poros50 HQ 1G12')\n",
    "dfs.hq.eluate  = file.parse('Poros50 HQ Eluate')\n",
    "dfs.xq.g12  = file.parse('PorosXQ 1G12')\n",
    "dfs.xq.eluate  = file.parse('PorosXQ Eluate')\n",
    "\n",
    "file = pd.ExcelFile(f'./data/Chase SWATH 20230220.xlsx')\n",
    "dfs.cq.a5  = file.parse('CaptoQFT 1A05')\n",
    "dfs.cq.b12  = file.parse('CaptoQFT 1B12')\n",
    "dfs.cq.d9  = file.parse('CaptoQFT 1D09')\n",
    "dfs.hq.b12  = file.parse('Poros50HQFT 1B12!') # short list method\n",
    "dfs.hq.d9  = file.parse('Poros50HQFT 1D09')\n",
    "dfs.xq.a5 = file.parse('PorosXQFT 1A05!') # short list method\n",
    "dfs.xq.b12 = file.parse('PorosXQFT 1B12') # short list method\n",
    "dfs.xq.d9 = file.parse('PorosXQFT 1D09') # short list method\n",
    "\n",
    "for resin in ['cq', 'hq', 'xq']:\n",
    "    for frac in dfs[resin].keys():\n",
    "        dfs[resin][frac].dropna(axis='columns', inplace=True)\n",
    "        dfs[resin][frac].columns = ['accn', 'name', 'rep1_log2_norm_area', 'rep2_log2_norm_area', 'rep3_log2_norm_area', 'prot_mw', 'rep1_ng', 'rep2_ng', 'rep3_ng', 'ave_ng', 'cv']\n",
    "        dfs[resin][frac]['ave_ppm'] = dfs[resin][frac]['ave_ng']/90.91 * 1e3 # x ng/90.91 ug * 1e-3 ug/ng * 1e6 ppm\n",
    "                   \n",
    "        # Get mAb as a separate df\n",
    "        dfs_mab[resin][frac] = dfs[resin][frac][ dfs[resin][frac]['name'].str.contains('Custom') ]\n",
    "        dfs_mab[resin][frac].reset_index(inplace=True, drop=True)\n",
    "        \n",
    "        # Select only CHO HCPs\n",
    "        dfs[resin][frac] = dfs[resin][frac][ dfs[resin][frac]['name'].str.contains('Cricetulus griseus') ]\n",
    "        dfs[resin][frac].reset_index(inplace=True, drop=True)"
   ]
  },
  {
   "cell_type": "code",
   "execution_count": null,
   "id": "aed8f3a6",
   "metadata": {},
   "outputs": [],
   "source": []
  },
  {
   "cell_type": "markdown",
   "id": "65e48c7e",
   "metadata": {},
   "source": [
    "# Assemble a flat df with ave_ppm values"
   ]
  },
  {
   "cell_type": "code",
   "execution_count": 10,
   "id": "0b188f62",
   "metadata": {
    "ExecuteTime": {
     "end_time": "2023-04-03T04:57:24.311034Z",
     "start_time": "2023-04-03T04:57:22.518588Z"
    },
    "execution": {
     "iopub.execute_input": "2023-08-28T01:05:03.776812Z",
     "iopub.status.busy": "2023-08-28T01:05:03.776386Z",
     "iopub.status.idle": "2023-08-28T01:05:05.004891Z",
     "shell.execute_reply": "2023-08-28T01:05:05.004070Z",
     "shell.execute_reply.started": "2023-08-28T01:05:03.776779Z"
    }
   },
   "outputs": [],
   "source": [
    "names = {}\n",
    "\n",
    "for source in dfs.keys():\n",
    "    for frac in dfs[source].keys():\n",
    "        df = dfs[source][frac]\n",
    "        for i, cont in df.iterrows():\n",
    "            names[cont['accn']] = cont['name']\n",
    "                \n",
    "\n",
    "df_master = pd.DataFrame.from_dict(names, orient='index')\n",
    "df_master.reset_index(inplace=True)\n",
    "df_master.columns = ['accn', 'name']\n",
    "\n",
    "for source in dfs.keys():\n",
    "    for frac in dfs[source].keys():\n",
    "        df = dfs[source][frac]\n",
    "        for i, cont in df.iterrows():\n",
    "            df_master.loc[df_master.accn == cont.accn, f'{source}_{frac}'] = cont.ave_ppm"
   ]
  },
  {
   "cell_type": "code",
   "execution_count": 11,
   "id": "20af8188",
   "metadata": {
    "ExecuteTime": {
     "end_time": "2023-04-03T04:57:24.327310Z",
     "start_time": "2023-04-03T04:57:24.312556Z"
    },
    "execution": {
     "iopub.execute_input": "2023-08-28T01:05:05.006203Z",
     "iopub.status.busy": "2023-08-28T01:05:05.006013Z",
     "iopub.status.idle": "2023-08-28T01:05:05.020840Z",
     "shell.execute_reply": "2023-08-28T01:05:05.020118Z",
     "shell.execute_reply.started": "2023-08-28T01:05:05.006188Z"
    }
   },
   "outputs": [],
   "source": [
    "df_master = df_master[['accn', 'name', \n",
    "                       'cq_a5', 'cq_b12', 'cq_d9', 'cq_g12', 'cq_eluate', \n",
    "                       'xq_a5', 'xq_b12', 'xq_d9', 'xq_g12', 'xq_eluate',\n",
    "                       'hq_a5', 'hq_b12', 'hq_d9', 'hq_g12', 'hq_eluate']]"
   ]
  },
  {
   "cell_type": "code",
   "execution_count": 12,
   "id": "e59d2f82",
   "metadata": {
    "ExecuteTime": {
     "end_time": "2023-04-03T04:57:24.362841Z",
     "start_time": "2023-04-03T04:57:24.328602Z"
    },
    "execution": {
     "iopub.execute_input": "2023-08-28T01:05:05.021873Z",
     "iopub.status.busy": "2023-08-28T01:05:05.021679Z",
     "iopub.status.idle": "2023-08-28T01:05:05.061088Z",
     "shell.execute_reply": "2023-08-28T01:05:05.060000Z",
     "shell.execute_reply.started": "2023-08-28T01:05:05.021859Z"
    }
   },
   "outputs": [],
   "source": [
    "df_master.to_csv('./generated_tables/swath_master_df_ppm_with_na.csv', index=False)\n",
    "df_master = df_master.fillna(0)\n",
    "df_master.to_csv('./generated_tables/swath_master_df_ppm.csv', index=False)"
   ]
  },
  {
   "cell_type": "code",
   "execution_count": null,
   "id": "c23ab5c5",
   "metadata": {},
   "outputs": [],
   "source": []
  },
  {
   "cell_type": "markdown",
   "id": "8ba7be33",
   "metadata": {},
   "source": [
    "# Add biophysical properties"
   ]
  },
  {
   "cell_type": "code",
   "execution_count": 44,
   "id": "de917314",
   "metadata": {
    "ExecuteTime": {
     "end_time": "2023-04-03T04:57:26.597117Z",
     "start_time": "2023-04-03T04:57:26.573956Z"
    }
   },
   "outputs": [],
   "source": [
    "df_dda = pd.read_csv('./generated_tables/df_master_dda_with_bare_properties.csv')"
   ]
  },
  {
   "cell_type": "code",
   "execution_count": 45,
   "id": "c4960884",
   "metadata": {
    "ExecuteTime": {
     "end_time": "2023-04-03T04:57:26.907902Z",
     "start_time": "2023-04-03T04:57:26.734869Z"
    }
   },
   "outputs": [
    {
     "data": {
      "text/plain": [
       "387"
      ]
     },
     "execution_count": 45,
     "metadata": {},
     "output_type": "execute_result"
    }
   ],
   "source": [
    "new_accn = [accn for accn in list(df_master.accn) if accn not in list(df_dda.accn)]\n",
    "len(new_accn)"
   ]
  },
  {
   "cell_type": "code",
   "execution_count": 46,
   "id": "bdffc8f3",
   "metadata": {
    "ExecuteTime": {
     "end_time": "2023-04-03T04:57:26.923767Z",
     "start_time": "2023-04-03T04:57:26.909521Z"
    }
   },
   "outputs": [],
   "source": [
    "# # Get new html links to look up sequences\n",
    "\n",
    "# html = ''\n",
    "# cnt = 0\n",
    "\n",
    "# for i, a in enumerate(new_accn):\n",
    "#     if i % 200 == 0:\n",
    "#         print(html[:-1], '\\n'*2)\n",
    "#         html = 'https://www.ncbi.nlm.nih.gov/protein/'        \n",
    "#     html += a + ','\n",
    "#     cnt += 1\n",
    "    \n",
    "# print(html[:-1], '\\n'*2)"
   ]
  },
  {
   "cell_type": "code",
   "execution_count": 47,
   "id": "52a2d6b5",
   "metadata": {
    "ExecuteTime": {
     "end_time": "2023-04-03T04:57:27.111111Z",
     "start_time": "2023-04-03T04:57:27.048783Z"
    }
   },
   "outputs": [],
   "source": [
    "# My substitution rules for uncertain amino acids\n",
    "my_sub_rules = {'B':'D', 'Z':'E', 'X':'A', 'J':'L'}\n",
    "\n",
    "# Get sequence dictionary {accession:sequence_object}\n",
    "sequences = {}\n",
    "subbed_ids = []\n",
    "\n",
    "for r in SeqIO.parse(\"./data/sequences_all.fasta\", \"fasta\"):\n",
    "    for aa in my_sub_rules.keys(): # uncertain amino acids\n",
    "        if aa in r.seq:\n",
    "            r.seq = Seq.Seq(str(r.seq).replace(aa, my_sub_rules[aa]))\n",
    "            subbed_ids.append(r.id)\n",
    "    sequences[r.id] = r.seq"
   ]
  },
  {
   "cell_type": "code",
   "execution_count": 48,
   "id": "e8357fe1",
   "metadata": {
    "ExecuteTime": {
     "end_time": "2023-04-03T04:57:27.382281Z",
     "start_time": "2023-04-03T04:57:27.190312Z"
    }
   },
   "outputs": [],
   "source": [
    "missing = []\n",
    "for i, cont in df_master.iterrows():\n",
    "    if cont.accn not in list(sequences.keys()):\n",
    "        missing.append(cont.accn)\n",
    "assert len(missing) == 0"
   ]
  },
  {
   "cell_type": "code",
   "execution_count": 49,
   "id": "3f17e3b7",
   "metadata": {
    "ExecuteTime": {
     "end_time": "2023-04-03T04:57:59.728532Z",
     "start_time": "2023-04-03T04:57:27.383964Z"
    }
   },
   "outputs": [
    {
     "name": "stderr",
     "output_type": "stream",
     "text": [
      "/home/chase/anaconda3/lib/python3.7/site-packages/scipy/optimize/minpack.py:175: RuntimeWarning: The iteration is not making good progress, as measured by the \n",
      "  improvement from the last ten iterations.\n",
      "  warnings.warn(msg, RuntimeWarning)\n"
     ]
    }
   ],
   "source": [
    "# Get pI and mass dictionaries {accession:pI/mass}\n",
    "pI_vals = {}\n",
    "masses = {}\n",
    "\n",
    "for p_id, seq in sequences.items():\n",
    "    pI, is_solved = prot_fun.get_pI(seq)\n",
    "    assert is_solved\n",
    "    pI_vals[p_id] = pI\n",
    "    masses[p_id] = SeqUtils.molecular_weight(seq, seq_type='protein')"
   ]
  },
  {
   "cell_type": "code",
   "execution_count": 50,
   "id": "aa200adc",
   "metadata": {
    "ExecuteTime": {
     "end_time": "2023-04-03T04:57:59.903918Z",
     "start_time": "2023-04-03T04:57:59.730416Z"
    }
   },
   "outputs": [],
   "source": [
    "# Add sequences, pI values, and masses to df_master\n",
    "for i, cont in df_master.iterrows():\n",
    "    df_master.at[i, 'sequence'] = str(sequences[cont.accn])\n",
    "    df_master.at[i, 'pI'] = pI_vals[cont.accn]\n",
    "    df_master.at[i, 'mass'] = masses[cont.accn]"
   ]
  },
  {
   "cell_type": "code",
   "execution_count": 51,
   "id": "3e99bb4c",
   "metadata": {
    "ExecuteTime": {
     "end_time": "2023-04-03T04:58:02.893343Z",
     "start_time": "2023-04-03T04:57:59.905127Z"
    }
   },
   "outputs": [],
   "source": [
    "# Get other biophysical property dictionaries (assuming pH 7.0)\n",
    "net_charges, net_neg_charges, net_pos_charges, charge_densities, charge_densities_neg, charge_densities_pos = {}, {}, {}, {}, {}, {}\n",
    "\n",
    "for p_id, seq in sequences.items():\n",
    "    net_charge, net_neg_charge, net_pos_charge, charge_dens, charge_dens_neg, charge_dens_pos = prot_fun.get_charge(pH=7.0, seq=seq, charge_contributions=True)\n",
    "    net_charges[p_id] = net_charge\n",
    "    net_neg_charges[p_id] = net_neg_charge\n",
    "    net_pos_charges[p_id] = net_pos_charge\n",
    "    charge_densities[p_id] = charge_dens\n",
    "    charge_densities_neg[p_id] = charge_dens_neg\n",
    "    charge_densities_pos[p_id] = charge_dens_pos"
   ]
  },
  {
   "cell_type": "code",
   "execution_count": 52,
   "id": "e3e2f521",
   "metadata": {
    "ExecuteTime": {
     "end_time": "2023-04-03T04:58:03.124518Z",
     "start_time": "2023-04-03T04:58:02.895689Z"
    }
   },
   "outputs": [],
   "source": [
    "# Add these biophysical properties to df_master\n",
    "for i, cont in df_master.iterrows():\n",
    "    df_master.at[i, 'net_charge'] = net_charges[cont.accn]\n",
    "    df_master.at[i, 'net_charge_neg'] = net_neg_charges[cont.accn]\n",
    "    df_master.at[i, 'net_charge_pos'] = net_pos_charges[cont.accn]\n",
    "    df_master.at[i, 'charge_dens_C_m2'] = charge_densities[cont.accn]\n",
    "    df_master.at[i, 'charge_dens_neg_C_m2'] = charge_densities_neg[cont.accn]\n",
    "    df_master.at[i, 'charge_dens_pos_C_m2'] = charge_densities_pos[cont.accn]"
   ]
  },
  {
   "cell_type": "code",
   "execution_count": 53,
   "id": "d2a0e0dc",
   "metadata": {
    "ExecuteTime": {
     "end_time": "2023-04-03T04:58:03.175530Z",
     "start_time": "2023-04-03T04:58:03.125853Z"
    }
   },
   "outputs": [],
   "source": [
    "df_master.to_csv('./generated_tables/swath_master_df_ppm_with_properties.csv', index=False)"
   ]
  },
  {
   "cell_type": "code",
   "execution_count": null,
   "id": "20d9f3ef",
   "metadata": {},
   "outputs": [],
   "source": []
  },
  {
   "cell_type": "markdown",
   "id": "ec110421",
   "metadata": {},
   "source": [
    "# Get error estimate for total mass"
   ]
  },
  {
   "cell_type": "code",
   "execution_count": 72,
   "id": "51e5a500",
   "metadata": {
    "ExecuteTime": {
     "end_time": "2023-04-03T11:15:04.901764Z",
     "start_time": "2023-04-03T11:15:04.880072Z"
    }
   },
   "outputs": [],
   "source": [
    "df_brad = pd.read_csv('./generated_tables/bradford_errors.csv')"
   ]
  },
  {
   "cell_type": "code",
   "execution_count": 73,
   "id": "f361b0ca",
   "metadata": {
    "ExecuteTime": {
     "end_time": "2023-04-03T11:15:05.393993Z",
     "start_time": "2023-04-03T11:15:05.304149Z"
    }
   },
   "outputs": [],
   "source": [
    "for resin in ['cq', 'hq', 'xq']:\n",
    "    for frac in dfs[resin].keys():\n",
    "        brad_rsd = df_brad.loc[(df_brad.resin == resin) & (df_brad.frac == frac), 'bradford_rsd'].iloc[0]\n",
    "        df = dfs[resin][frac]\n",
    "        \n",
    "        m_ave = df['ave_ng'].sum()\n",
    "        m_stdev = np.std([df['rep1_ng'].sum(), df['rep2_ng'].sum(), df['rep3_ng'].sum()], ddof=1, axis=0)\n",
    "        swath_rsd = m_stdev / m_ave\n",
    "        \n",
    "        total_rsd = np.sqrt(brad_rsd**2 + swath_rsd**2)\n",
    "        df_brad.at[(df_brad.resin == resin) & (df_brad.frac == frac), 'swath_rsd'] = swath_rsd\n",
    "        df_brad.at[(df_brad.resin == resin) & (df_brad.frac == frac), 'total_rsd'] = total_rsd"
   ]
  },
  {
   "cell_type": "code",
   "execution_count": 74,
   "id": "8f30a3ea",
   "metadata": {
    "ExecuteTime": {
     "end_time": "2023-04-03T11:15:05.773129Z",
     "start_time": "2023-04-03T11:15:05.752800Z"
    }
   },
   "outputs": [],
   "source": [
    "df_brad.to_csv('./generated_tables/bradford_and_swath_errors.csv', index=False)"
   ]
  },
  {
   "cell_type": "code",
   "execution_count": null,
   "id": "922a1f4c",
   "metadata": {},
   "outputs": [],
   "source": []
  },
  {
   "cell_type": "code",
   "execution_count": null,
   "id": "5d9f6fd2",
   "metadata": {},
   "outputs": [],
   "source": []
  },
  {
   "cell_type": "code",
   "execution_count": null,
   "id": "835a8165",
   "metadata": {},
   "outputs": [],
   "source": []
  },
  {
   "cell_type": "code",
   "execution_count": null,
   "id": "ee347044",
   "metadata": {},
   "outputs": [],
   "source": []
  }
 ],
 "metadata": {
  "kernelspec": {
   "display_name": "Python 3 (ipykernel)",
   "language": "python",
   "name": "python3"
  },
  "language_info": {
   "codemirror_mode": {
    "name": "ipython",
    "version": 3
   },
   "file_extension": ".py",
   "mimetype": "text/x-python",
   "name": "python",
   "nbconvert_exporter": "python",
   "pygments_lexer": "ipython3",
   "version": "3.11.5"
  }
 },
 "nbformat": 4,
 "nbformat_minor": 5
}
