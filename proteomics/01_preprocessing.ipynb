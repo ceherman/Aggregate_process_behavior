{
 "cells": [
  {
   "cell_type": "code",
   "execution_count": 1,
   "id": "eea4dd83",
   "metadata": {
    "ExecuteTime": {
     "end_time": "2023-02-20T00:56:18.658619Z",
     "start_time": "2023-02-20T00:56:18.636342Z"
    },
    "execution": {
     "iopub.execute_input": "2023-08-28T01:01:21.436948Z",
     "iopub.status.busy": "2023-08-28T01:01:21.436509Z",
     "iopub.status.idle": "2023-08-28T01:01:21.460447Z",
     "shell.execute_reply": "2023-08-28T01:01:21.459708Z",
     "shell.execute_reply.started": "2023-08-28T01:01:21.436915Z"
    }
   },
   "outputs": [],
   "source": [
    "%load_ext autoreload\n",
    "%autoreload 2"
   ]
  },
  {
   "cell_type": "code",
   "execution_count": 2,
   "id": "c0fc9a9b",
   "metadata": {
    "ExecuteTime": {
     "end_time": "2023-02-20T00:56:18.872634Z",
     "start_time": "2023-02-20T00:56:18.852081Z"
    },
    "execution": {
     "iopub.execute_input": "2023-08-28T01:01:21.714316Z",
     "iopub.status.busy": "2023-08-28T01:01:21.713830Z",
     "iopub.status.idle": "2023-08-28T01:01:21.729493Z",
     "shell.execute_reply": "2023-08-28T01:01:21.728359Z",
     "shell.execute_reply.started": "2023-08-28T01:01:21.714255Z"
    }
   },
   "outputs": [],
   "source": [
    "# from IPython.core.display import display, HTML, clear_output\n",
    "# display(HTML(\"<style>.container { width:100% !important; }</style>\"))"
   ]
  },
  {
   "cell_type": "code",
   "execution_count": 3,
   "id": "769e7bdc",
   "metadata": {
    "ExecuteTime": {
     "end_time": "2022-12-08T14:33:13.976647Z",
     "start_time": "2022-12-08T14:33:12.827213Z"
    },
    "execution": {
     "iopub.execute_input": "2023-08-28T01:01:22.010089Z",
     "iopub.status.busy": "2023-08-28T01:01:22.009631Z",
     "iopub.status.idle": "2023-08-28T01:01:22.866900Z",
     "shell.execute_reply": "2023-08-28T01:01:22.865804Z",
     "shell.execute_reply.started": "2023-08-28T01:01:22.010056Z"
    }
   },
   "outputs": [],
   "source": [
    "import pandas as pd\n",
    "import numpy as np\n",
    "from scipy import optimize\n",
    "from scipy.stats import sem\n",
    "\n",
    "import os\n",
    "import sys\n",
    "\n",
    "import matplotlib.pyplot as plt\n",
    "import matplotlib.ticker\n",
    "from venn import venn, pseudovenn\n",
    "import seaborn as sns\n",
    "from matplotlib.collections import PathCollection\n",
    "\n",
    "from Bio import SeqIO, SeqUtils\n",
    "from Bio.SeqUtils.ProtParam import ProteinAnalysis\n",
    "\n",
    "from addict import Dict\n",
    "import json\n"
   ]
  },
  {
   "cell_type": "code",
   "execution_count": 4,
   "id": "be351da5",
   "metadata": {
    "ExecuteTime": {
     "end_time": "2022-12-08T14:33:14.002152Z",
     "start_time": "2022-12-08T14:33:13.978523Z"
    },
    "execution": {
     "iopub.execute_input": "2023-08-28T01:01:22.868137Z",
     "iopub.status.busy": "2023-08-28T01:01:22.867881Z",
     "iopub.status.idle": "2023-08-28T01:01:22.889759Z",
     "shell.execute_reply": "2023-08-28T01:01:22.889003Z",
     "shell.execute_reply.started": "2023-08-28T01:01:22.868121Z"
    }
   },
   "outputs": [],
   "source": [
    "sys.path.append(\"../\")\n",
    "import plotting as my_plot\n",
    "\n",
    "sys.path.append(\"./mean_field_elect/\")\n",
    "import proteomics_functions as prot_fun\n",
    "import base_classes\n",
    "import morbidelli as m"
   ]
  },
  {
   "cell_type": "code",
   "execution_count": null,
   "id": "df5f8ed3-985c-484f-aeeb-82ba6ed08a4e",
   "metadata": {},
   "outputs": [],
   "source": []
  },
  {
   "cell_type": "markdown",
   "id": "1c3f0dd7",
   "metadata": {},
   "source": [
    "# Load data"
   ]
  },
  {
   "cell_type": "code",
   "execution_count": 6,
   "id": "00aa7f48",
   "metadata": {
    "ExecuteTime": {
     "end_time": "2022-12-08T14:37:35.026526Z",
     "start_time": "2022-12-08T14:37:33.903109Z"
    },
    "execution": {
     "iopub.execute_input": "2023-08-28T01:01:31.483633Z",
     "iopub.status.busy": "2023-08-28T01:01:31.482739Z",
     "iopub.status.idle": "2023-08-28T01:01:32.181486Z",
     "shell.execute_reply": "2023-08-28T01:01:32.180749Z",
     "shell.execute_reply.started": "2023-08-28T01:01:31.483594Z"
    }
   },
   "outputs": [],
   "source": [
    "dfs = Dict()\n",
    "excel_obj = pd.ExcelFile('./data/Chase DDA 20220830.xlsx')\n",
    "dfs.cq.g12 = excel_obj.parse('CaptoQ FT-1G12')\n",
    "dfs.cq.eluate = excel_obj.parse('CaptoQ FT-Eluate')\n",
    "dfs.hq.g12 = excel_obj.parse('Poros50HQ FT-1G12')\n",
    "dfs.hq.eluate = excel_obj.parse('Poros50HQ FT-Eluate')\n",
    "dfs.xq.g12 = excel_obj.parse('PorosXQ FT-1G12')\n",
    "dfs.xq.eluate = excel_obj.parse('PorosXQ FT-Eluate')"
   ]
  },
  {
   "cell_type": "markdown",
   "id": "9bfdf21c",
   "metadata": {},
   "source": [
    "# Remove non-CHO and reversed (decoy) proteins"
   ]
  },
  {
   "cell_type": "code",
   "execution_count": 7,
   "id": "2559b1b6",
   "metadata": {
    "ExecuteTime": {
     "end_time": "2022-12-08T14:38:26.480620Z",
     "start_time": "2022-12-08T14:38:26.457235Z"
    },
    "execution": {
     "iopub.execute_input": "2023-08-28T01:01:32.626132Z",
     "iopub.status.busy": "2023-08-28T01:01:32.625650Z",
     "iopub.status.idle": "2023-08-28T01:01:32.647899Z",
     "shell.execute_reply": "2023-08-28T01:01:32.646693Z",
     "shell.execute_reply.started": "2023-08-28T01:01:32.626095Z"
    }
   },
   "outputs": [],
   "source": [
    "def remove_non_CHO_and_reversed(df):\n",
    "    df = df[df['Name'].str.contains('Cricetulus griseus')]\n",
    "    df_rev = df[df['Accession'].str.contains('RRRRR')]\n",
    "    df = df[~df['Accession'].str.contains('RRRRR')]\n",
    "    df.reset_index(inplace=True, drop=True)\n",
    "    df_rev.reset_index(inplace=True, drop=True)\n",
    "    return df, df_rev"
   ]
  },
  {
   "cell_type": "code",
   "execution_count": 8,
   "id": "6481ee48",
   "metadata": {
    "ExecuteTime": {
     "end_time": "2022-12-08T14:39:48.588251Z",
     "start_time": "2022-12-08T14:39:48.531352Z"
    },
    "execution": {
     "iopub.execute_input": "2023-08-28T01:01:34.146256Z",
     "iopub.status.busy": "2023-08-28T01:01:34.145812Z",
     "iopub.status.idle": "2023-08-28T01:01:34.200880Z",
     "shell.execute_reply": "2023-08-28T01:01:34.199646Z",
     "shell.execute_reply.started": "2023-08-28T01:01:34.146222Z"
    }
   },
   "outputs": [],
   "source": [
    "dfs_rev = Dict()\n",
    "\n",
    "for resin in dfs.keys():\n",
    "    for frac in dfs[resin].keys():\n",
    "        dfs[resin][frac], df_rev = remove_non_CHO_and_reversed(dfs[resin][frac])\n",
    "        if not df_rev.empty:\n",
    "            dfs_rev[resin][frac] = df_rev"
   ]
  },
  {
   "cell_type": "markdown",
   "id": "2afcf512",
   "metadata": {},
   "source": [
    "## What confidence criteria were given to reversed proteins?"
   ]
  },
  {
   "cell_type": "code",
   "execution_count": 9,
   "id": "3a238769",
   "metadata": {
    "ExecuteTime": {
     "end_time": "2022-12-08T14:41:00.191619Z",
     "start_time": "2022-12-08T14:41:00.166116Z"
    },
    "execution": {
     "iopub.execute_input": "2023-08-28T01:01:36.420423Z",
     "iopub.status.busy": "2023-08-28T01:01:36.419978Z",
     "iopub.status.idle": "2023-08-28T01:01:36.445092Z",
     "shell.execute_reply": "2023-08-28T01:01:36.443864Z",
     "shell.execute_reply.started": "2023-08-28T01:01:36.420388Z"
    }
   },
   "outputs": [
    {
     "name": "stdout",
     "output_type": "stream",
     "text": [
      "hq eluate \t 2.0 \t 1\n",
      "xq eluate \t 0.0 \t 1\n"
     ]
    }
   ],
   "source": [
    "for resin in dfs_rev.keys():\n",
    "    for frac in dfs_rev[resin].keys():\n",
    "        df = dfs_rev[resin][frac]\n",
    "        print(resin, frac, '\\t', df.at[0, 'Unused'], '\\t', df.at[0, 'Peptides(95%)'])"
   ]
  },
  {
   "cell_type": "markdown",
   "id": "3e3882d0",
   "metadata": {},
   "source": [
    "# Select HCPs with $\\geq 2$ peptides"
   ]
  },
  {
   "cell_type": "code",
   "execution_count": 10,
   "id": "c6a4dea7",
   "metadata": {
    "ExecuteTime": {
     "end_time": "2022-12-08T14:42:08.896695Z",
     "start_time": "2022-12-08T14:42:08.854097Z"
    }
   },
   "outputs": [],
   "source": [
    "for resin in dfs.keys():\n",
    "    for frac in dfs[resin].keys():\n",
    "        df = dfs[resin][frac]\n",
    "        df.drop(df[df['Peptides(95%)'] == 1].index, inplace=True)\n",
    "        df.reset_index(inplace=True, drop=True)"
   ]
  },
  {
   "cell_type": "markdown",
   "id": "fe0d3069",
   "metadata": {},
   "source": [
    "# Deal with the problem of $Unused \\; score = 0$\n",
    "\n",
    "Problem:  among multiple possible HCPs, only one needs to be selected, but this can lead to the appearance of different HCPs in different samples that should truly be treated as the same HCP.\n",
    "\n",
    "I plan to try to minimize the total number of HCPs in the union by selecting among HCP possibilities based on some ranking (eg. most confident identifications elswhere, etc.)."
   ]
  },
  {
   "cell_type": "code",
   "execution_count": 13,
   "id": "942c734f",
   "metadata": {
    "ExecuteTime": {
     "end_time": "2022-12-08T14:44:21.072955Z",
     "start_time": "2022-12-08T14:44:19.025128Z"
    }
   },
   "outputs": [],
   "source": [
    "accn_groups = []\n",
    "single_ids = []\n",
    "\n",
    "for resin in dfs.keys():\n",
    "    for frac in dfs[resin].keys():\n",
    "        df = dfs[resin][frac]\n",
    "        if len(df) > 0:\n",
    "            n_vals = list(set(df.N))\n",
    "            n_vals.sort()\n",
    "            for n in n_vals:\n",
    "                df_prot = df[df.N == n]\n",
    "                accn_groups.append(list(df_prot.Accession))\n",
    "                if len(df_prot) == 1:\n",
    "                    single_ids.append([resin, frac, df_prot.iloc[0]['Accession'], df_prot.iloc[0]['Unused'], df_prot.iloc[0]['Peptides(95%)']])\n",
    "                    \n",
    "unique_accn_groups = list(set(map(tuple, accn_groups)))\n",
    "df_singles = pd.DataFrame(single_ids, columns=['resin', 'frac', 'accn', 'unused', 'peptides'])"
   ]
  },
  {
   "cell_type": "code",
   "execution_count": 14,
   "id": "335221b2",
   "metadata": {
    "ExecuteTime": {
     "end_time": "2022-12-08T14:44:36.224713Z",
     "start_time": "2022-12-08T14:44:36.200576Z"
    }
   },
   "outputs": [],
   "source": [
    "# Get frequency counts for HCPs\n",
    "hcp_freq = {}\n",
    "\n",
    "for resin in dfs.keys():\n",
    "    for frac in dfs[resin].keys():\n",
    "        df = dfs[resin][frac]\n",
    "        for a in df.Accession:\n",
    "            if a in hcp_freq.keys():\n",
    "                hcp_freq[a] += 1\n",
    "            else:\n",
    "                hcp_freq[a] = 1"
   ]
  },
  {
   "cell_type": "code",
   "execution_count": 15,
   "id": "5182faf1",
   "metadata": {
    "ExecuteTime": {
     "end_time": "2022-12-08T14:45:34.183548Z",
     "start_time": "2022-12-08T14:45:28.201822Z"
    },
    "scrolled": true
   },
   "outputs": [],
   "source": [
    "# Select \"winner\" HCPs\n",
    "# 1) Are there multiple options? If not, the selection is unnecessary.\n",
    "# 2) If there are multiple options, narrow it down by taking the HCPs with the highest number of peptides. Then, are any of the HCPs found elsewhere as a singlet? \n",
    "#    If so, select the singlet that was identified with the greatest confidence (based on number of peptides, then the unused score)\n",
    "# 3) If none of the degenerate HCPs are ever found as singlets, check that I haven't already selected any of the HCPs (from 4 and 5 below).\n",
    "#    If previous selections have been made, take the one that has the higher frequency of previous selection, \n",
    "#    and if they all have the same frequency of previous selection, take the top one from the list of ordered accn ids.\n",
    "# 4) If none of the HCPs have been previously selected, does any one of the HCPs appear at a higher frequency? If so, select that one.\n",
    "# 5) If not, take the top entry in the list of ordered accn ids. \n",
    "\n",
    "already_selected = {}\n",
    "\n",
    "for resin in dfs.keys():\n",
    "    for frac in dfs[resin].keys():\n",
    "        df = dfs[resin][frac]\n",
    "        df['selection'] = False\n",
    "        if len(df) > 0:\n",
    "            n_vals = list(set(df.N))\n",
    "            n_vals.sort()\n",
    "            for n in n_vals:\n",
    "                df_prot = df[df.N == n]\n",
    "                if len(df_prot) == 1:\n",
    "                    index = df_prot.index[0]\n",
    "                    df.at[index, 'selection'] = True\n",
    "                else:\n",
    "                    df_prot = df_prot[df_prot['Peptides(95%)'] == df_prot['Peptides(95%)'].max()]\n",
    "                    df_single_test = df_singles[df_singles.accn.isin(list(df_prot.Accession))].copy()\n",
    "                    if len(df_single_test) > 0:\n",
    "                        df_single_test.sort_values(by=['peptides', 'unused'], inplace=True, ignore_index=True, ascending=False)\n",
    "                        accn_selection = df_single_test.at[0, 'accn']\n",
    "                        index = df_prot.loc[df_prot.Accession == accn_selection].index[0]\n",
    "                        df.at[index, 'selection'] = True\n",
    "                    else:\n",
    "                        df_already = df_prot[df_prot.Accession.isin(already_selected.keys())].copy()\n",
    "                        if len(df_already) == 0:\n",
    "                            temp = []\n",
    "                            for a in df_prot.Accession:\n",
    "                                temp.append([a, hcp_freq[a]])\n",
    "                            df_freq = pd.DataFrame(temp, columns=['accn', 'freq'])\n",
    "                            df_freq.sort_values(by=['freq', 'accn'], inplace=True, ignore_index=True, ascending=False)\n",
    "                            accn_selection = df_freq.at[0, 'accn']\n",
    "                            index = df_prot.loc[df_prot.Accession == accn_selection].index[0]\n",
    "                            df.at[index, 'selection'] = True\n",
    "                            already_selected[accn_selection] = 1\n",
    "                        else:\n",
    "                            df_b = df_already.copy()\n",
    "                            for i, cont in df_already.iterrows():\n",
    "                                df_already.at[i, 'freq'] = already_selected[cont.Accession]\n",
    "                            df_already.sort_values(by=['freq', 'Accession'], inplace=True, ignore_index=True, ascending=False)\n",
    "                            accn_selection = df_already.at[0, 'Accession']\n",
    "                            index = df_prot.loc[df_prot.Accession == accn_selection].index[0]\n",
    "                            df.at[index, 'selection'] = True\n",
    "                            already_selected[accn_selection] += 1                         "
   ]
  },
  {
   "cell_type": "code",
   "execution_count": 16,
   "id": "12f8b35b",
   "metadata": {
    "ExecuteTime": {
     "end_time": "2022-12-08T14:45:58.246208Z",
     "start_time": "2022-12-08T14:45:56.667041Z"
    }
   },
   "outputs": [],
   "source": [
    "# Check\n",
    "for resin in dfs.keys():\n",
    "    for frac in dfs[resin].keys():\n",
    "        df = dfs[resin][frac]\n",
    "        assert df.selection.sum() - len(list(set(df.N))) == 0\n",
    "        if len(df) > 0:\n",
    "            n_vals = list(set(df.N))\n",
    "            n_vals.sort()\n",
    "            for n in n_vals:\n",
    "                df_prot = df[df.N == n]\n",
    "                assert df_prot.selection.sum() == 1            "
   ]
  },
  {
   "cell_type": "code",
   "execution_count": null,
   "id": "d1c218c3",
   "metadata": {},
   "outputs": [],
   "source": []
  },
  {
   "cell_type": "code",
   "execution_count": null,
   "id": "86cfe778",
   "metadata": {},
   "outputs": [],
   "source": []
  },
  {
   "cell_type": "markdown",
   "id": "187a5245",
   "metadata": {},
   "source": [
    "# Get set of all proteins and a master dataframe with their locations"
   ]
  },
  {
   "cell_type": "code",
   "execution_count": 18,
   "id": "fc945db5",
   "metadata": {
    "ExecuteTime": {
     "end_time": "2022-12-08T14:47:12.728803Z",
     "start_time": "2022-12-08T14:47:11.469423Z"
    }
   },
   "outputs": [],
   "source": [
    "names = {}\n",
    "\n",
    "for resin in dfs.keys():\n",
    "    for frac in dfs[resin].keys():\n",
    "        df = dfs[resin][frac]\n",
    "        df = df[df.selection]\n",
    "        for i, cont in df.iterrows():\n",
    "            names[cont['Accession']] = cont['Name']\n",
    "                \n",
    "df_master_1 = pd.DataFrame.from_dict(names, orient='index')\n",
    "df_master_1.reset_index(inplace=True)\n",
    "df_master_1.columns = ['accession', 'name']\n",
    "\n",
    "for resin in dfs.keys():\n",
    "    for frac in dfs[resin].keys():\n",
    "        df = dfs[resin][frac]\n",
    "        df = df[df.selection]\n",
    "        for i, cont in df_master_1.iterrows():\n",
    "            df_master_1.at[i, f'{resin}_{frac}'] = cont.accession in list(df['Accession'])"
   ]
  },
  {
   "cell_type": "code",
   "execution_count": 19,
   "id": "d1f3bfb3",
   "metadata": {
    "ExecuteTime": {
     "end_time": "2022-12-08T14:48:22.546015Z",
     "start_time": "2022-12-08T14:48:21.213602Z"
    }
   },
   "outputs": [
    {
     "data": {
      "text/plain": [
       "(1349, 1271, 0.05782060785767235)"
      ]
     },
     "execution_count": 19,
     "metadata": {},
     "output_type": "execute_result"
    }
   ],
   "source": [
    "# For reference - if I had just selected the first species in each degenerate case\n",
    "\n",
    "names = {}\n",
    "\n",
    "for resin in dfs.keys():\n",
    "    for frac in dfs[resin].keys():\n",
    "        df = dfs[resin][frac]\n",
    "        df = df[df.Unused > 0]\n",
    "        for i, cont in df.iterrows():\n",
    "            names[cont['Accession']] = cont['Name']\n",
    "                \n",
    "df_master_dummy = pd.DataFrame.from_dict(names, orient='index')\n",
    "df_master_dummy.reset_index(inplace=True)\n",
    "df_master_dummy.columns = ['accession', 'name']\n",
    "\n",
    "for resin in dfs.keys():\n",
    "    for frac in dfs[resin].keys():\n",
    "        df = dfs[resin][frac]\n",
    "        df = df[df.Unused > 0]\n",
    "        for i, cont in df_master_dummy.iterrows():\n",
    "            df_master_dummy.at[i, f'{resin}_{frac}'] = cont.accession in list(df['Accession'])\n",
    "                \n",
    "len(df_master_dummy), len(df_master_1), (len(df_master_dummy) - len(df_master_1))/len(df_master_dummy)"
   ]
  },
  {
   "cell_type": "code",
   "execution_count": null,
   "id": "1131a75b",
   "metadata": {},
   "outputs": [],
   "source": []
  },
  {
   "cell_type": "markdown",
   "id": "06acb83b",
   "metadata": {
    "ExecuteTime": {
     "end_time": "2022-04-26T15:01:06.357816Z",
     "start_time": "2022-04-26T15:01:06.341631Z"
    }
   },
   "source": [
    "# Add sequences, pI values, and masses to the dataframe"
   ]
  },
  {
   "cell_type": "code",
   "execution_count": 23,
   "id": "f866ad0f",
   "metadata": {
    "ExecuteTime": {
     "end_time": "2022-12-08T14:53:45.270563Z",
     "start_time": "2022-12-08T14:53:45.246197Z"
    }
   },
   "outputs": [],
   "source": [
    "# # Get new html links to look up sequences\n",
    "\n",
    "# html = ''\n",
    "# cnt = 0\n",
    "\n",
    "# for i, a in enumerate(df_master_1.accession):\n",
    "#     if i % 200 == 0:\n",
    "#         print(html[:-1], '\\n'*2)\n",
    "#         html = 'https://www.ncbi.nlm.nih.gov/protein/'        \n",
    "#     html += a + ','\n",
    "#     cnt += 1\n",
    "    \n",
    "# print(html[:-1], '\\n'*2)"
   ]
  },
  {
   "cell_type": "code",
   "execution_count": 24,
   "id": "93b91ff0",
   "metadata": {
    "ExecuteTime": {
     "end_time": "2022-12-08T14:54:15.140789Z",
     "start_time": "2022-12-08T14:54:15.076991Z"
    }
   },
   "outputs": [],
   "source": [
    "# My substitution rules for uncertain amino acids\n",
    "my_sub_rules = {'B':'D', 'Z':'E', 'X':'A', 'J':'L'}\n",
    "\n",
    "# Get sequence dictionary {accession:sequence_object}\n",
    "sequences = {}\n",
    "subbed_ids = []\n",
    "\n",
    "for r in SeqIO.parse(\"./data/sequences_dda.fasta\", \"fasta\"):\n",
    "    for aa in my_sub_rules.keys(): # uncertain amino acids\n",
    "        if aa in r.seq:\n",
    "            r.seq = r.seq.replace(aa, my_sub_rules[aa])\n",
    "            subbed_ids.append(r.id)\n",
    "    sequences[r.id] = r.seq"
   ]
  },
  {
   "cell_type": "code",
   "execution_count": 27,
   "id": "e15341ca",
   "metadata": {
    "ExecuteTime": {
     "end_time": "2022-12-08T14:54:32.240543Z",
     "start_time": "2022-12-08T14:54:32.077126Z"
    }
   },
   "outputs": [],
   "source": [
    "missing = []\n",
    "for i, cont in df_master_1.iterrows():\n",
    "    if cont.accession not in list(sequences.keys()):\n",
    "        missing.append(cont.accession)\n",
    "assert len(missing) == 0"
   ]
  },
  {
   "cell_type": "code",
   "execution_count": 28,
   "id": "6d09ebb3",
   "metadata": {
    "ExecuteTime": {
     "end_time": "2022-12-08T14:54:48.296089Z",
     "start_time": "2022-12-08T14:54:48.277237Z"
    }
   },
   "outputs": [],
   "source": [
    "for accn in df_master_1.accession:\n",
    "    assert accn in sequences.keys()"
   ]
  },
  {
   "cell_type": "code",
   "execution_count": 29,
   "id": "67b15c82",
   "metadata": {
    "ExecuteTime": {
     "end_time": "2022-12-08T14:55:37.637397Z",
     "start_time": "2022-12-08T14:55:12.997562Z"
    }
   },
   "outputs": [
    {
     "name": "stderr",
     "output_type": "stream",
     "text": [
      "/home/chase/anaconda3/lib/python3.7/site-packages/scipy/optimize/minpack.py:175: RuntimeWarning: The iteration is not making good progress, as measured by the \n",
      "  improvement from the last ten iterations.\n",
      "  warnings.warn(msg, RuntimeWarning)\n"
     ]
    }
   ],
   "source": [
    "# Get pI and mass dictionaries {accession:pI/mass}\n",
    "pI_vals = {}\n",
    "masses = {}\n",
    "\n",
    "for p_id, seq in sequences.items():\n",
    "    pI, is_solved = prot_fun.get_pI(seq)\n",
    "    assert is_solved\n",
    "    pI_vals[p_id] = pI\n",
    "    masses[p_id] = SeqUtils.molecular_weight(seq, seq_type='protein')"
   ]
  },
  {
   "cell_type": "code",
   "execution_count": 30,
   "id": "5e930f84",
   "metadata": {
    "ExecuteTime": {
     "end_time": "2022-12-08T14:55:37.820529Z",
     "start_time": "2022-12-08T14:55:37.639264Z"
    }
   },
   "outputs": [],
   "source": [
    "# Add sequences, pI values, and masses to df_master_1\n",
    "for i, cont in df_master_1.iterrows():\n",
    "    df_master_1.at[i, 'sequence'] = str(sequences[cont.accession])\n",
    "    df_master_1.at[i, 'pI'] = pI_vals[cont.accession]\n",
    "    df_master_1.at[i, 'mass'] = masses[cont.accession]"
   ]
  },
  {
   "cell_type": "code",
   "execution_count": 33,
   "id": "106b6c18",
   "metadata": {
    "ExecuteTime": {
     "end_time": "2022-12-08T14:56:21.723972Z",
     "start_time": "2022-12-08T14:56:19.359714Z"
    }
   },
   "outputs": [],
   "source": [
    "# Get other biophysical property dictionaries (assuming pH 7.0)\n",
    "net_charges, net_neg_charges, net_pos_charges, charge_densities, charge_densities_neg, charge_densities_pos = {}, {}, {}, {}, {}, {}\n",
    "\n",
    "for p_id, seq in sequences.items():\n",
    "    net_charge, net_neg_charge, net_pos_charge, charge_dens, charge_dens_neg, charge_dens_pos = prot_fun.get_charge(pH=7.0, seq=seq, charge_contributions=True)\n",
    "    net_charges[p_id] = net_charge\n",
    "    net_neg_charges[p_id] = net_neg_charge\n",
    "    net_pos_charges[p_id] = net_pos_charge\n",
    "    charge_densities[p_id] = charge_dens\n",
    "    charge_densities_neg[p_id] = charge_dens_neg\n",
    "    charge_densities_pos[p_id] = charge_dens_pos"
   ]
  },
  {
   "cell_type": "code",
   "execution_count": 34,
   "id": "b8b3d696",
   "metadata": {
    "ExecuteTime": {
     "end_time": "2022-12-08T14:56:24.680835Z",
     "start_time": "2022-12-08T14:56:24.423561Z"
    }
   },
   "outputs": [],
   "source": [
    "# Add these biophysical properties to df_master_1\n",
    "for i, cont in df_master_1.iterrows():\n",
    "    df_master_1.at[i, 'net_charge'] = net_charges[cont.accession]\n",
    "    df_master_1.at[i, 'net_charge_neg'] = net_neg_charges[cont.accession]\n",
    "    df_master_1.at[i, 'net_charge_pos'] = net_pos_charges[cont.accession]\n",
    "    df_master_1.at[i, 'charge_dens_C_m2'] = charge_densities[cont.accession]\n",
    "    df_master_1.at[i, 'charge_dens_neg_C_m2'] = charge_densities_neg[cont.accession]\n",
    "    df_master_1.at[i, 'charge_dens_pos_C_m2'] = charge_densities_pos[cont.accession]"
   ]
  },
  {
   "cell_type": "code",
   "execution_count": 35,
   "id": "4389ade2",
   "metadata": {
    "ExecuteTime": {
     "end_time": "2022-12-08T14:56:27.455580Z",
     "start_time": "2022-12-08T14:56:27.432544Z"
    }
   },
   "outputs": [
    {
     "name": "stdout",
     "output_type": "stream",
     "text": [
      "[] []\n"
     ]
    }
   ],
   "source": [
    "# Check for duplicate sequences (i.e. degeneracy of accession numbers corresponding to a single sequence)\n",
    "sequence_dict = {}\n",
    "for i, s in enumerate(df_master_1.sequence):\n",
    "    if s in sequence_dict.keys():\n",
    "        sequence_dict[s].append(i)\n",
    "    else:\n",
    "        sequence_dict[s] = [i]\n",
    "        \n",
    "dup_seq = [s for s, indeces in sequence_dict.items() if len(indeces) > 1]\n",
    "dup_seq_indeces = [indeces for n, indeces in sequence_dict.items() if len(indeces) > 1]\n",
    "\n",
    "print(dup_seq, dup_seq_indeces)"
   ]
  },
  {
   "cell_type": "code",
   "execution_count": 36,
   "id": "9f8e2a1e",
   "metadata": {
    "ExecuteTime": {
     "end_time": "2022-12-08T14:56:31.120037Z",
     "start_time": "2022-12-08T14:56:30.873739Z"
    }
   },
   "outputs": [],
   "source": [
    "# Get cysteine content\n",
    "for i, cont in df_master_1.iterrows():\n",
    "    x = ProteinAnalysis(str(sequences[cont.accession]))\n",
    "    df_master_1.at[i, 'cysteine_cont_percent'] = x.get_amino_acids_percent()['C'] * 100\n",
    "    df_master_1.at[i, 'cysteine_num'] = x.count_amino_acids()['C']"
   ]
  },
  {
   "cell_type": "code",
   "execution_count": 37,
   "id": "397cd2b4",
   "metadata": {
    "ExecuteTime": {
     "end_time": "2022-12-08T14:56:36.914778Z",
     "start_time": "2022-12-08T14:56:36.895741Z"
    }
   },
   "outputs": [],
   "source": [
    "# Drop sequences for readability\n",
    "try:\n",
    "    df_master_1.drop(columns=['sequence'], inplace=True)\n",
    "except:\n",
    "    pass"
   ]
  },
  {
   "cell_type": "code",
   "execution_count": null,
   "id": "a3a81cf5",
   "metadata": {},
   "outputs": [],
   "source": []
  },
  {
   "cell_type": "markdown",
   "id": "6eca9635",
   "metadata": {},
   "source": [
    "# Combine entries with identically repeated names"
   ]
  },
  {
   "cell_type": "code",
   "execution_count": 45,
   "id": "95728d88",
   "metadata": {
    "ExecuteTime": {
     "end_time": "2022-12-08T14:58:16.384641Z",
     "start_time": "2022-12-08T14:58:16.362217Z"
    }
   },
   "outputs": [],
   "source": [
    "sample_columns = ['cq_g12', 'cq_eluate', 'hq_g12', 'hq_eluate', 'xq_g12', 'xq_eluate']"
   ]
  },
  {
   "cell_type": "code",
   "execution_count": 38,
   "id": "b20982a1",
   "metadata": {
    "ExecuteTime": {
     "end_time": "2022-12-08T14:56:50.154036Z",
     "start_time": "2022-12-08T14:56:50.127064Z"
    }
   },
   "outputs": [],
   "source": [
    "hcp_names = {}\n",
    "for i, n in enumerate(df_master_1.name):\n",
    "    if n in hcp_names.keys():\n",
    "        hcp_names[n].append(i)\n",
    "    else:\n",
    "        hcp_names[n] = [i]\n",
    "        \n",
    "dup_names = [n for n, indeces in hcp_names.items() if len(indeces) > 1]\n",
    "dup_indeces = [indeces for n, indeces in hcp_names.items() if len(indeces) > 1]\n",
    "dup_indeces_flat = [item for sublist in dup_indeces for item in sublist]\n",
    "\n",
    "n_dup_max = max([len(sublist) for sublist in dup_indeces])"
   ]
  },
  {
   "cell_type": "code",
   "execution_count": 46,
   "id": "f21d9b04",
   "metadata": {
    "ExecuteTime": {
     "end_time": "2022-12-08T14:58:18.571199Z",
     "start_time": "2022-12-08T14:58:18.545528Z"
    }
   },
   "outputs": [
    {
     "name": "stdout",
     "output_type": "stream",
     "text": [
      "[185, 1006] \t hq_eluate \t beta-hexosaminidase subunit beta isoform X2 [Cricetulus griseus]\n",
      "[185, 1006] \t xq_eluate \t beta-hexosaminidase subunit beta isoform X2 [Cricetulus griseus]\n"
     ]
    }
   ],
   "source": [
    "for indeces in dup_indeces:\n",
    "    df_temp = df_master_1.iloc[indeces]\n",
    "    for sample in sample_columns:\n",
    "        if df_temp[sample].sum() > 1:\n",
    "            print(indeces, '\\t', sample,  '\\t', df_temp.at[indeces[0], 'name'])"
   ]
  },
  {
   "cell_type": "code",
   "execution_count": 43,
   "id": "1ea1f0bc",
   "metadata": {
    "ExecuteTime": {
     "end_time": "2022-12-08T14:57:35.703821Z",
     "start_time": "2022-12-08T14:57:35.680850Z"
    }
   },
   "outputs": [],
   "source": [
    "# df_master_1.iloc[dup_indeces_flat]"
   ]
  },
  {
   "cell_type": "code",
   "execution_count": null,
   "id": "bf6a4fbf",
   "metadata": {
    "ExecuteTime": {
     "end_time": "2022-04-27T16:09:11.541552Z",
     "start_time": "2022-04-27T16:09:11.496163Z"
    }
   },
   "outputs": [],
   "source": []
  },
  {
   "cell_type": "code",
   "execution_count": 47,
   "id": "a1fea33a",
   "metadata": {
    "ExecuteTime": {
     "end_time": "2022-12-08T14:59:01.511414Z",
     "start_time": "2022-12-08T14:59:01.475276Z"
    }
   },
   "outputs": [],
   "source": [
    "unique_names = df_master_1.iloc[~df_master_1.index.isin(dup_indeces_flat)].copy()\n",
    "unique_names.reset_index(inplace=True, drop=True)\n",
    "unique_names.rename(columns={'accession':'accession_0', 'pI':'pI_0', 'mass':'mass_0', 'net_charge':'net_charge_0', \n",
    "                             'net_charge_neg':'net_charge_neg_0', 'net_charge_pos':'net_charge_pos_0',\n",
    "                             'charge_dens_C_m2':'charge_dens_C_m2_0', 'charge_dens_neg_C_m2':'charge_dens_neg_C_m2_0', \n",
    "                             'charge_dens_pos_C_m2':'charge_dens_pos_C_m2_0', 'cysteine_cont_percent':'cysteine_cont_percent_0',\n",
    "                             'cysteine_num':'cysteine_num_0'}, inplace=True)\n",
    "\n",
    "for n in dup_names:\n",
    "    df = df_master_1.iloc[hcp_names[n]].copy()\n",
    "    df.reset_index(inplace=True, drop=True)\n",
    "    combined_entry = {}\n",
    "    \n",
    "    for i, cont in df.iterrows():\n",
    "        for column in ['accession', 'pI', 'mass', 'net_charge', 'net_charge_neg', 'net_charge_pos',\n",
    "                       'charge_dens_C_m2', 'charge_dens_neg_C_m2', 'charge_dens_pos_C_m2',\n",
    "                       'cysteine_cont_percent', 'cysteine_num']:\n",
    "            combined_entry[f'{column}_{i}'] = [cont[column]]\n",
    "        \n",
    "        if i == 0:\n",
    "            combined_entry['name'] = [cont['name']]\n",
    "    \n",
    "    for sample in sample_columns:\n",
    "        combined_entry[sample] = [True in list(df[sample])]\n",
    "    \n",
    "    df_temp = pd.DataFrame(combined_entry)\n",
    "    unique_names = pd.concat([unique_names, df_temp], ignore_index=True)"
   ]
  },
  {
   "cell_type": "code",
   "execution_count": 48,
   "id": "69c69e8c",
   "metadata": {
    "ExecuteTime": {
     "end_time": "2022-12-08T14:59:10.642457Z",
     "start_time": "2022-12-08T14:59:10.595089Z"
    }
   },
   "outputs": [],
   "source": [
    "pI_columns = []\n",
    "mass_columns = []\n",
    "net_charge_columns = []\n",
    "net_charge_neg_columns = []\n",
    "net_charge_pos_columns = []\n",
    "charge_dens_C_m2_columns = []\n",
    "charge_dens_neg_C_m2_columns = []\n",
    "charge_dens_pos_C_m2_columns = []\n",
    "cysteine_cont_percent_columns = []\n",
    "cysteine_num_columns = []\n",
    "\n",
    "for i in range(n_dup_max):\n",
    "    pI_columns.append(f'pI_{i}')\n",
    "    mass_columns.append(f'mass_{i}')\n",
    "    net_charge_columns.append(f'net_charge_{i}')\n",
    "    net_charge_neg_columns.append(f'net_charge_neg_{i}')\n",
    "    net_charge_pos_columns.append(f'net_charge_pos_{i}')\n",
    "    charge_dens_C_m2_columns.append(f'charge_dens_C_m2_{i}')\n",
    "    charge_dens_neg_C_m2_columns.append(f'charge_dens_neg_C_m2_{i}')\n",
    "    charge_dens_pos_C_m2_columns.append(f'charge_dens_pos_C_m2_{i}')\n",
    "    cysteine_cont_percent_columns.append(f'cysteine_cont_percent_{i}')\n",
    "    cysteine_num_columns.append(f'cysteine_num_{i}')\n",
    "    \n",
    "unique_names['pI_mean'] = unique_names[pI_columns].mean(axis=1)\n",
    "unique_names['mass_mean'] = unique_names[mass_columns].mean(axis=1)\n",
    "unique_names['net_charge_mean'] = unique_names[net_charge_columns].mean(axis=1)\n",
    "unique_names['net_charge_neg_mean'] = unique_names[net_charge_neg_columns].mean(axis=1)\n",
    "unique_names['net_charge_pos_mean'] = unique_names[net_charge_pos_columns].mean(axis=1)\n",
    "unique_names['charge_dens_C_m2_mean'] = unique_names[charge_dens_C_m2_columns].mean(axis=1)\n",
    "unique_names['charge_dens_neg_C_m2_mean'] = unique_names[charge_dens_neg_C_m2_columns].mean(axis=1)\n",
    "unique_names['charge_dens_pos_C_m2_mean'] = unique_names[charge_dens_pos_C_m2_columns].mean(axis=1)\n",
    "unique_names['cysteine_cont_percent_mean'] = unique_names[cysteine_cont_percent_columns].mean(axis=1)\n",
    "unique_names['cysteine_num_mean'] = unique_names[cysteine_num_columns].mean(axis=1)"
   ]
  },
  {
   "cell_type": "code",
   "execution_count": null,
   "id": "50d6d9c8",
   "metadata": {},
   "outputs": [],
   "source": []
  },
  {
   "cell_type": "markdown",
   "id": "ec73c059",
   "metadata": {},
   "source": [
    "# Save master dataframe"
   ]
  },
  {
   "cell_type": "code",
   "execution_count": 49,
   "id": "90a44646",
   "metadata": {
    "ExecuteTime": {
     "end_time": "2022-12-08T14:59:38.219087Z",
     "start_time": "2022-12-08T14:59:38.059495Z"
    }
   },
   "outputs": [],
   "source": [
    "df_master = unique_names\n",
    "for i, cont in df_master.iterrows():\n",
    "    text = cont['name'].replace(' [Cricetulus griseus]', '')\n",
    "    df_master.at[i, 'desc_lower'] = text.lower()"
   ]
  },
  {
   "cell_type": "code",
   "execution_count": 50,
   "id": "94a3cfb6",
   "metadata": {
    "ExecuteTime": {
     "end_time": "2022-12-08T14:59:49.833567Z",
     "start_time": "2022-12-08T14:59:49.668657Z"
    }
   },
   "outputs": [],
   "source": [
    "for i, cont in df_master.iterrows():\n",
    "    desc_lower_2 = cont.desc_lower[:]\n",
    "    desc_lower_2 = desc_lower_2.replace('-', ' ')\n",
    "    desc_lower_2 = desc_lower_2.replace('_', ' ')\n",
    "    desc_lower_2 = desc_lower_2.replace(',', '')\n",
    "    df_master.at[i, 'desc_lower_2'] = desc_lower_2"
   ]
  },
  {
   "cell_type": "code",
   "execution_count": 55,
   "id": "a45e93cb",
   "metadata": {
    "ExecuteTime": {
     "end_time": "2022-12-08T15:02:37.831957Z",
     "start_time": "2022-12-08T15:02:37.758477Z"
    }
   },
   "outputs": [],
   "source": [
    "# df_master.to_csv('./generated_tables/df_master_dda_with_properties.csv', index=False)"
   ]
  },
  {
   "cell_type": "code",
   "execution_count": 54,
   "id": "b8bcf738",
   "metadata": {
    "ExecuteTime": {
     "end_time": "2022-12-08T15:02:17.330333Z",
     "start_time": "2022-12-08T15:02:17.304767Z"
    }
   },
   "outputs": [],
   "source": [
    "df_master_pared_down = df_master.copy()\n",
    "df_master_pared_down.rename(columns={'accession_0':'accn'}, inplace=True)\n",
    "df_master_pared_down.drop(columns=['pI_0', 'mass_0', 'net_charge_0', 'net_charge_neg_0', 'net_charge_pos_0',\n",
    "                       'charge_dens_C_m2_0', 'charge_dens_neg_C_m2_0',\n",
    "                       'charge_dens_pos_C_m2_0', 'accession_1', 'pI_1', 'mass_1',\n",
    "                       'net_charge_1', 'net_charge_neg_1', 'net_charge_pos_1',\n",
    "                       'charge_dens_C_m2_1', 'charge_dens_neg_C_m2_1',\n",
    "                       'charge_dens_pos_C_m2_1', 'cysteine_cont_percent_0', 'cysteine_num_0',\n",
    "                       'cysteine_cont_percent_1', 'cysteine_num_1'], inplace=True)\n",
    "# df_master_pared_down.to_csv('./generated_tables/df_master_dda_with_mean_properties.csv', index=False)"
   ]
  },
  {
   "cell_type": "code",
   "execution_count": 60,
   "id": "9dc8a108",
   "metadata": {
    "ExecuteTime": {
     "end_time": "2022-12-08T15:06:11.309746Z",
     "start_time": "2022-12-08T15:06:11.267083Z"
    }
   },
   "outputs": [],
   "source": [
    "df_master_bare = df_master_pared_down.copy()\n",
    "df_master_bare.rename(columns={'pI_mean':'pI', 'mass_mean':'mass'}, inplace=True)\n",
    "df_master_bare.drop(columns=['net_charge_mean', 'net_charge_neg_mean', 'net_charge_pos_mean', 'charge_dens_C_m2_mean',\n",
    "                               'charge_dens_neg_C_m2_mean', 'charge_dens_pos_C_m2_mean',\n",
    "                               'cysteine_cont_percent_mean', 'cysteine_num_mean', 'desc_lower'], inplace=True)\n",
    "# df_master_bare.to_csv('./generated_tables/df_master_dda_with_bare_properties.csv', index=False)"
   ]
  },
  {
   "cell_type": "code",
   "execution_count": null,
   "id": "87383de0",
   "metadata": {},
   "outputs": [],
   "source": []
  },
  {
   "cell_type": "code",
   "execution_count": null,
   "id": "7fc6da41",
   "metadata": {},
   "outputs": [],
   "source": []
  },
  {
   "cell_type": "code",
   "execution_count": null,
   "id": "0ab4c9b8",
   "metadata": {},
   "outputs": [],
   "source": []
  },
  {
   "cell_type": "code",
   "execution_count": null,
   "id": "7aff80d7",
   "metadata": {},
   "outputs": [],
   "source": []
  },
  {
   "cell_type": "code",
   "execution_count": null,
   "id": "b63d4bbc",
   "metadata": {},
   "outputs": [],
   "source": []
  },
  {
   "cell_type": "code",
   "execution_count": null,
   "id": "6fe0201b",
   "metadata": {},
   "outputs": [],
   "source": []
  },
  {
   "cell_type": "code",
   "execution_count": null,
   "id": "4c678af3",
   "metadata": {},
   "outputs": [],
   "source": []
  },
  {
   "cell_type": "code",
   "execution_count": null,
   "id": "b0871c02",
   "metadata": {},
   "outputs": [],
   "source": []
  },
  {
   "cell_type": "code",
   "execution_count": null,
   "id": "f6d97f4d",
   "metadata": {},
   "outputs": [],
   "source": []
  },
  {
   "cell_type": "code",
   "execution_count": null,
   "id": "e8a77120",
   "metadata": {},
   "outputs": [],
   "source": []
  },
  {
   "cell_type": "code",
   "execution_count": null,
   "id": "ec081f39",
   "metadata": {},
   "outputs": [],
   "source": []
  },
  {
   "cell_type": "code",
   "execution_count": null,
   "id": "d2ead96a",
   "metadata": {},
   "outputs": [],
   "source": []
  },
  {
   "cell_type": "code",
   "execution_count": null,
   "id": "718623bc",
   "metadata": {},
   "outputs": [],
   "source": []
  },
  {
   "cell_type": "code",
   "execution_count": null,
   "id": "2ef712e6",
   "metadata": {},
   "outputs": [],
   "source": []
  },
  {
   "cell_type": "code",
   "execution_count": null,
   "id": "184173d9",
   "metadata": {},
   "outputs": [],
   "source": []
  },
  {
   "cell_type": "code",
   "execution_count": null,
   "id": "65b4c6eb",
   "metadata": {},
   "outputs": [],
   "source": []
  },
  {
   "cell_type": "code",
   "execution_count": null,
   "id": "6efa5353",
   "metadata": {},
   "outputs": [],
   "source": []
  },
  {
   "cell_type": "code",
   "execution_count": null,
   "id": "26c2406d",
   "metadata": {},
   "outputs": [],
   "source": []
  },
  {
   "cell_type": "code",
   "execution_count": null,
   "id": "e0f6f039",
   "metadata": {},
   "outputs": [],
   "source": []
  },
  {
   "cell_type": "code",
   "execution_count": null,
   "id": "d8620406",
   "metadata": {},
   "outputs": [],
   "source": []
  }
 ],
 "metadata": {
  "kernelspec": {
   "display_name": "Python 3 (ipykernel)",
   "language": "python",
   "name": "python3"
  },
  "language_info": {
   "codemirror_mode": {
    "name": "ipython",
    "version": 3
   },
   "file_extension": ".py",
   "mimetype": "text/x-python",
   "name": "python",
   "nbconvert_exporter": "python",
   "pygments_lexer": "ipython3",
   "version": "3.11.5"
  }
 },
 "nbformat": 4,
 "nbformat_minor": 5
}
