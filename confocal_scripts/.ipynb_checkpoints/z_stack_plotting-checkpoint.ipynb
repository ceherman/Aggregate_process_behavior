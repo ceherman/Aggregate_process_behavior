{
 "cells": [
  {
   "cell_type": "code",
   "execution_count": 1,
   "id": "36c01f1a",
   "metadata": {
    "ExecuteTime": {
     "end_time": "2022-04-27T04:20:23.065076Z",
     "start_time": "2022-04-27T04:20:23.033986Z"
    }
   },
   "outputs": [],
   "source": [
    "%load_ext autoreload\n",
    "%autoreload 2"
   ]
  },
  {
   "cell_type": "code",
   "execution_count": 2,
   "id": "1724b723",
   "metadata": {
    "ExecuteTime": {
     "end_time": "2022-04-27T04:20:23.353183Z",
     "start_time": "2022-04-27T04:20:23.329141Z"
    }
   },
   "outputs": [
    {
     "data": {
      "text/html": [
       "<style>.container { width:100% !important; }</style>"
      ],
      "text/plain": [
       "<IPython.core.display.HTML object>"
      ]
     },
     "metadata": {},
     "output_type": "display_data"
    }
   ],
   "source": [
    "from IPython.core.display import display, HTML, clear_output\n",
    "display(HTML(\"<style>.container { width:100% !important; }</style>\"))"
   ]
  },
  {
   "cell_type": "code",
   "execution_count": 3,
   "id": "0ff3f238",
   "metadata": {
    "ExecuteTime": {
     "end_time": "2022-04-27T04:20:24.582460Z",
     "start_time": "2022-04-27T04:20:23.697454Z"
    }
   },
   "outputs": [],
   "source": [
    "import numpy as np\n",
    "import os\n",
    "\n",
    "import matplotlib\n",
    "import matplotlib.pyplot as plt\n",
    "import matplotlib.colors as colors\n",
    "from mpl_toolkits.axes_grid1.anchored_artists import AnchoredSizeBar\n",
    "import matplotlib.font_manager as fm\n",
    "fontprops = fm.FontProperties(size=18)\n",
    "\n",
    "import czifile\n",
    "\n",
    "import sys\n",
    "sys.path.append('../')\n",
    "import plotting as my_plot\n",
    "import confocal_functions as cf"
   ]
  },
  {
   "cell_type": "code",
   "execution_count": null,
   "id": "6d780796",
   "metadata": {},
   "outputs": [],
   "source": []
  },
  {
   "cell_type": "code",
   "execution_count": 4,
   "id": "5544388f",
   "metadata": {
    "ExecuteTime": {
     "end_time": "2022-04-27T04:20:24.619949Z",
     "start_time": "2022-04-27T04:20:24.608107Z"
    }
   },
   "outputs": [],
   "source": [
    "gamma = 0.3\n",
    "epsilon = 0.025\n",
    "\n",
    "date = '2021-12-17'\n",
    "data_folder = f'./data/{date}'\n",
    "image_folder = f'./images/{date}_images_epsilon_{epsilon:.3f}_gamma_{gamma:.2f}'\n",
    "try:\n",
    "    os.mkdir(image_folder)\n",
    "except:\n",
    "    pass\n",
    "\n",
    "files = os.listdir(data_folder)\n",
    "z_files = [f for f in files if '_z' in f]\n",
    "z_files.sort()"
   ]
  },
  {
   "cell_type": "code",
   "execution_count": 10,
   "id": "d2cb72d9",
   "metadata": {
    "ExecuteTime": {
     "end_time": "2022-04-27T04:20:48.643831Z",
     "start_time": "2022-04-27T04:20:48.624732Z"
    }
   },
   "outputs": [
    {
     "data": {
      "text/plain": [
       "['p3_z21.czi',\n",
       " 'p3_z22.czi',\n",
       " 'p4_z1.czi',\n",
       " 'p4_z2.czi',\n",
       " 'p4_z21.czi',\n",
       " 'p4_z22.czi',\n",
       " 'p4_z3.czi',\n",
       " 'p5_z1.czi',\n",
       " 'p5_z2.czi',\n",
       " 'p5_z21.czi',\n",
       " 'p5_z22.czi',\n",
       " 'p6_z1.czi',\n",
       " 'p6_z2.czi',\n",
       " 'p6_z21.czi',\n",
       " 'p6_z22.czi']"
      ]
     },
     "execution_count": 10,
     "metadata": {},
     "output_type": "execute_result"
    }
   ],
   "source": [
    "z_files[23:]"
   ]
  },
  {
   "cell_type": "code",
   "execution_count": 11,
   "id": "549084a2",
   "metadata": {
    "ExecuteTime": {
     "end_time": "2022-04-27T04:25:01.194054Z",
     "start_time": "2022-04-27T04:21:02.905498Z"
    }
   },
   "outputs": [],
   "source": [
    "for f in z_files[23:]:\n",
    "    name = f[:f.find('.')]\n",
    "    file = f'{data_folder}/{f}'\n",
    "    new_folder = f'{image_folder}/{name}'\n",
    "#     try:\n",
    "#         os.mkdir(new_folder)\n",
    "#     except:\n",
    "#         pass\n",
    "    \n",
    "    image = czifile.imread(file)\n",
    "    data = image[0, 0, :, 0, :, 0, :, 0]\n",
    "    shape = np.shape(data)\n",
    "    new = np.zeros((shape[1], shape[2], 3))\n",
    "    aspect, x = cf.get_aspect_ratio(file)\n",
    "    \n",
    "    for y in range(0, image.shape[5], 600):\n",
    "        for i in range(2):\n",
    "            new[:, :, i] = (image[0, 0, i, 0, :, y, :, 0]/(2**12 - 1))\n",
    "\n",
    "        # Manual implementation of power-law colormap normalization with a lower threshold (epsilon)\n",
    "        alpha = 1.0 / ((1.0 - epsilon)**gamma)\n",
    "        new[new < epsilon] = epsilon\n",
    "        new = alpha * (new - epsilon)**gamma\n",
    "\n",
    "        fig, ax = cf.plot_color_montage(aspect*2, x, new, n_colors=2, scale_bar=False)\n",
    "        fig.savefig(f'./{new_folder}/y_{y}.png', dpi=300, bbox_inches='tight', pad_inches=0)\n",
    "        plt.close()"
   ]
  },
  {
   "cell_type": "code",
   "execution_count": null,
   "id": "07b2046a",
   "metadata": {},
   "outputs": [],
   "source": []
  },
  {
   "cell_type": "code",
   "execution_count": null,
   "id": "b9bdd4e6",
   "metadata": {},
   "outputs": [],
   "source": []
  },
  {
   "cell_type": "code",
   "execution_count": null,
   "id": "ac15ee4a",
   "metadata": {},
   "outputs": [],
   "source": []
  },
  {
   "cell_type": "code",
   "execution_count": null,
   "id": "c91dbd95",
   "metadata": {},
   "outputs": [],
   "source": []
  },
  {
   "cell_type": "code",
   "execution_count": null,
   "id": "089e3cfd",
   "metadata": {},
   "outputs": [],
   "source": []
  },
  {
   "cell_type": "code",
   "execution_count": null,
   "id": "55f68d02",
   "metadata": {},
   "outputs": [],
   "source": []
  },
  {
   "cell_type": "code",
   "execution_count": null,
   "id": "2a5865ab",
   "metadata": {},
   "outputs": [],
   "source": []
  },
  {
   "cell_type": "code",
   "execution_count": null,
   "id": "b5bae176",
   "metadata": {},
   "outputs": [],
   "source": []
  },
  {
   "cell_type": "code",
   "execution_count": null,
   "id": "a0c115d4",
   "metadata": {},
   "outputs": [],
   "source": []
  },
  {
   "cell_type": "code",
   "execution_count": null,
   "id": "a2de7031",
   "metadata": {},
   "outputs": [],
   "source": []
  },
  {
   "cell_type": "code",
   "execution_count": null,
   "id": "0d558e35",
   "metadata": {},
   "outputs": [],
   "source": []
  },
  {
   "cell_type": "code",
   "execution_count": null,
   "id": "2d28372a",
   "metadata": {},
   "outputs": [],
   "source": []
  },
  {
   "cell_type": "code",
   "execution_count": null,
   "id": "ba82a5d9",
   "metadata": {},
   "outputs": [],
   "source": []
  },
  {
   "cell_type": "code",
   "execution_count": null,
   "id": "177934a6",
   "metadata": {},
   "outputs": [],
   "source": []
  },
  {
   "cell_type": "code",
   "execution_count": null,
   "id": "dac4611c",
   "metadata": {},
   "outputs": [],
   "source": []
  },
  {
   "cell_type": "code",
   "execution_count": null,
   "id": "907880dc",
   "metadata": {},
   "outputs": [],
   "source": []
  },
  {
   "cell_type": "code",
   "execution_count": null,
   "id": "b7556bd4",
   "metadata": {},
   "outputs": [],
   "source": []
  },
  {
   "cell_type": "code",
   "execution_count": null,
   "id": "be948ed0",
   "metadata": {},
   "outputs": [],
   "source": []
  },
  {
   "cell_type": "code",
   "execution_count": null,
   "id": "11821c2d",
   "metadata": {},
   "outputs": [],
   "source": []
  },
  {
   "cell_type": "code",
   "execution_count": null,
   "id": "640c1206",
   "metadata": {},
   "outputs": [],
   "source": []
  },
  {
   "cell_type": "code",
   "execution_count": null,
   "id": "dafb1f5c",
   "metadata": {},
   "outputs": [],
   "source": []
  },
  {
   "cell_type": "code",
   "execution_count": null,
   "id": "181662cb",
   "metadata": {},
   "outputs": [],
   "source": []
  },
  {
   "cell_type": "code",
   "execution_count": null,
   "id": "6f01328e",
   "metadata": {},
   "outputs": [],
   "source": []
  },
  {
   "cell_type": "code",
   "execution_count": null,
   "id": "6cc1613c",
   "metadata": {},
   "outputs": [],
   "source": []
  },
  {
   "cell_type": "code",
   "execution_count": null,
   "id": "04d1afb2",
   "metadata": {},
   "outputs": [],
   "source": []
  },
  {
   "cell_type": "code",
   "execution_count": null,
   "id": "914aad65",
   "metadata": {},
   "outputs": [],
   "source": []
  },
  {
   "cell_type": "code",
   "execution_count": null,
   "id": "64c8d372",
   "metadata": {},
   "outputs": [],
   "source": []
  },
  {
   "cell_type": "code",
   "execution_count": null,
   "id": "b4708d1a",
   "metadata": {},
   "outputs": [],
   "source": []
  }
 ],
 "metadata": {
  "kernelspec": {
   "display_name": "Python 3 (ipykernel)",
   "language": "python",
   "name": "python3"
  },
  "language_info": {
   "codemirror_mode": {
    "name": "ipython",
    "version": 3
   },
   "file_extension": ".py",
   "mimetype": "text/x-python",
   "name": "python",
   "nbconvert_exporter": "python",
   "pygments_lexer": "ipython3",
   "version": "3.11.5"
  }
 },
 "nbformat": 4,
 "nbformat_minor": 5
}
