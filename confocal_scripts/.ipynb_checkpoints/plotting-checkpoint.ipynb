{
 "cells": [
  {
   "cell_type": "code",
   "execution_count": 1,
   "id": "36c01f1a",
   "metadata": {
    "ExecuteTime": {
     "end_time": "2022-09-07T18:17:26.694809Z",
     "start_time": "2022-09-07T18:17:26.672432Z"
    },
    "execution": {
     "iopub.execute_input": "2023-08-28T01:41:00.302105Z",
     "iopub.status.busy": "2023-08-28T01:41:00.301480Z",
     "iopub.status.idle": "2023-08-28T01:41:00.319391Z",
     "shell.execute_reply": "2023-08-28T01:41:00.318569Z",
     "shell.execute_reply.started": "2023-08-28T01:41:00.302075Z"
    }
   },
   "outputs": [],
   "source": [
    "%load_ext autoreload\n",
    "%autoreload 2"
   ]
  },
  {
   "cell_type": "code",
   "execution_count": 2,
   "id": "1724b723",
   "metadata": {
    "ExecuteTime": {
     "end_time": "2022-09-07T18:17:26.964497Z",
     "start_time": "2022-09-07T18:17:26.943280Z"
    },
    "execution": {
     "iopub.execute_input": "2023-08-28T01:41:00.604732Z",
     "iopub.status.busy": "2023-08-28T01:41:00.604328Z",
     "iopub.status.idle": "2023-08-28T01:41:00.616545Z",
     "shell.execute_reply": "2023-08-28T01:41:00.615374Z",
     "shell.execute_reply.started": "2023-08-28T01:41:00.604700Z"
    }
   },
   "outputs": [],
   "source": [
    "# from IPython.core.display import display, HTML, clear_output\n",
    "# display(HTML(\"<style>.container { width:100% !important; }</style>\"))"
   ]
  },
  {
   "cell_type": "code",
   "execution_count": 4,
   "id": "0ff3f238",
   "metadata": {
    "ExecuteTime": {
     "end_time": "2022-09-07T18:17:28.121218Z",
     "start_time": "2022-09-07T18:17:27.271014Z"
    },
    "execution": {
     "iopub.execute_input": "2023-08-28T01:41:09.309067Z",
     "iopub.status.busy": "2023-08-28T01:41:09.308734Z",
     "iopub.status.idle": "2023-08-28T01:41:09.319883Z",
     "shell.execute_reply": "2023-08-28T01:41:09.318851Z",
     "shell.execute_reply.started": "2023-08-28T01:41:09.309044Z"
    }
   },
   "outputs": [],
   "source": [
    "import numpy as np\n",
    "import os\n",
    "\n",
    "import matplotlib\n",
    "import matplotlib.pyplot as plt\n",
    "import matplotlib.colors as colors\n",
    "from mpl_toolkits.axes_grid1.anchored_artists import AnchoredSizeBar\n",
    "import matplotlib.font_manager as fm\n",
    "fontprops = fm.FontProperties(size=18)\n",
    "\n",
    "import czifile\n",
    "\n",
    "import sys\n",
    "sys.path.append('../')\n",
    "import plotting as my_plot\n",
    "import confocal_functions as cf"
   ]
  },
  {
   "cell_type": "code",
   "execution_count": null,
   "id": "6d780796",
   "metadata": {},
   "outputs": [],
   "source": []
  },
  {
   "cell_type": "markdown",
   "id": "820991e8",
   "metadata": {},
   "source": [
    "# Experiments\n",
    "- 2021-12-17:  Capto Q and Poros 50 HQ (z-stacks and xy scans only)\n",
    "- 2022-02-19:  mAb Select Sure LX\n",
    "- 2022-03-06:  mAb Select Sure LX with NaCl washes\n",
    "- 2022-04-23:  PROchievA\n",
    "- 2022-04-24:  Capto Q, Poros 50 HQ, and Poros XQ (with mAb, aged PAFVIN samples)\n",
    "- 2022-05-08:  Re-run of Capto Q, all AEX 0 mM added NaCl \n",
    "- 2022-05-12:  Re-run of all AEX with completely fresh samples (including mAb)\n",
    "- 2022-06-11:  Successful acquisition of AEX data (no mAb)\n",
    "- 2022-06-30:  mAb Select Sure LX re-run, bare agarose resin, and Pro A washes\n",
    "- 2022-07-01:  Same as above, but aggregates were filtered and more labeled materials were used\n",
    "    - Note there is ambiguity introduced in comparing mAb intensities between pH 4, 7, and 10 because of the extra unlabeled mAb in the pH 4 and 10 samples (and the aggregate amounts were estimated for pH 4 and 10 via mass balance, which isn't super accurate either)"
   ]
  },
  {
   "cell_type": "code",
   "execution_count": 7,
   "id": "5544388f",
   "metadata": {
    "ExecuteTime": {
     "end_time": "2022-09-07T01:46:39.925216Z",
     "start_time": "2022-09-07T01:46:39.910284Z"
    }
   },
   "outputs": [],
   "source": [
    "epsilon = 0.025\n",
    "gamma = 0.30"
   ]
  },
  {
   "cell_type": "code",
   "execution_count": 18,
   "id": "917b1e97",
   "metadata": {
    "ExecuteTime": {
     "end_time": "2022-09-07T01:54:13.896918Z",
     "start_time": "2022-09-07T01:54:13.870683Z"
    }
   },
   "outputs": [
    {
     "data": {
      "text/plain": [
       "['xy_1_10_1.czi',\n",
       " 'xy_1_4_1.czi',\n",
       " 'xy_1_7_1.czi',\n",
       " 'xy_2_10_1.czi',\n",
       " 'xy_2_4_1.czi',\n",
       " 'xy_2_7_1.czi',\n",
       " 'xy_2_7_wierd.czi',\n",
       " 'xy_3_10_1.czi',\n",
       " 'xy_3_4_1.czi',\n",
       " 'xy_3_7_1.czi',\n",
       " 'xy_4_10_1.czi',\n",
       " 'xy_4_4_1.czi',\n",
       " 'xy_4_7_1.czi',\n",
       " 'xy_5_10_1.czi',\n",
       " 'xy_5_4_1.czi',\n",
       " 'xy_5_7_1.czi',\n",
       " 'xy_6_10_3.czi',\n",
       " 'xy_6_4_1.czi',\n",
       " 'xy_6_7_2.czi',\n",
       " 'xy_6_7_2b.czi']"
      ]
     },
     "execution_count": 18,
     "metadata": {},
     "output_type": "execute_result"
    }
   ],
   "source": [
    "date = '2022-02-19'\n",
    "subfolder = ''\n",
    "name = 'mAb_Select_Sure_LX'\n",
    "scan = 'y'\n",
    "n_colors = 3\n",
    "\n",
    "data_folder = f'./data/{date}/{subfolder}'\n",
    "files = [f for f in os.listdir(data_folder) if 'temp' not in f]\n",
    "files.sort()\n",
    "\n",
    "try:\n",
    "    if subfolder == '':\n",
    "        image_folder = f'./images/{date}_{name}_epsilon_{epsilon:.3f}_gamma_{gamma:.2f}'\n",
    "    else:\n",
    "        image_folder = f'./images/{date}_{subfolder}_{name}_epsilon_{epsilon:.3f}_gamma_{gamma:.2f}'\n",
    "    os.mkdir(f'{image_folder}')\n",
    "except:\n",
    "    pass\n",
    "\n",
    "files = [f for f in files if 'xy_' == f[0:3]]\n",
    "\n",
    "# for i, f in enumerate(files):\n",
    "#     print(i, '\\t', f)\n",
    "\n",
    "files"
   ]
  },
  {
   "cell_type": "code",
   "execution_count": 16,
   "id": "802900f1",
   "metadata": {
    "ExecuteTime": {
     "end_time": "2022-09-07T01:50:28.551188Z",
     "start_time": "2022-09-07T01:49:48.199590Z"
    }
   },
   "outputs": [
    {
     "name": "stdout",
     "output_type": "stream",
     "text": [
      "20 \n",
      "\n",
      "0 xy_1_10_1.czi\n",
      "1 xy_1_4_1.czi\n",
      "2 xy_1_7_1.czi\n",
      "3 xy_2_10_1.czi\n",
      "4 xy_2_4_1.czi\n",
      "5 xy_2_7_1.czi\n",
      "6 xy_2_7_wierd.czi\n",
      "7 xy_3_10_1.czi\n",
      "8 xy_3_4_1.czi\n",
      "9 xy_3_7_1.czi\n",
      "10 xy_4_10_1.czi\n",
      "11 xy_4_4_1.czi\n",
      "12 xy_4_7_1.czi\n",
      "13 xy_5_10_1.czi\n",
      "14 xy_5_4_1.czi\n",
      "15 xy_5_7_1.czi\n",
      "16 xy_6_10_3.czi\n",
      "17 xy_6_4_1.czi\n",
      "18 xy_6_7_2.czi\n",
      "19 xy_6_7_2b.czi\n"
     ]
    }
   ],
   "source": [
    "print(len(files), '\\n')\n",
    "\n",
    "for j, file in enumerate(files):\n",
    "    path = f'./{data_folder}/{file}'\n",
    "    base_name = file[:file.find('.')]\n",
    "    \n",
    "    aspect, x = cf.get_aspect_ratio(path, scan)\n",
    "    new = cf.read_image(path, gamma, epsilon, scan)\n",
    "    \n",
    "    fig, ax = cf.plot_color_montage(aspect, x, new, n_colors)\n",
    "    fig.savefig(f'./{image_folder}/color_{base_name}.png', dpi=300, bbox_inches='tight', pad_inches=0)\n",
    "    \n",
    "#     fig, ax = cf.plot_greyscale_montage(aspect, x, new, n_colors)\n",
    "#     fig.savefig(f'./{image_folder}/grey_{base_name}.png', dpi=300, bbox_inches='tight', pad_inches=0)\n",
    "    \n",
    "    plt.close('all')\n",
    "    del new\n",
    "    print(j, file)"
   ]
  },
  {
   "cell_type": "code",
   "execution_count": null,
   "id": "2a5865ab",
   "metadata": {},
   "outputs": [],
   "source": []
  },
  {
   "cell_type": "code",
   "execution_count": null,
   "id": "b5bae176",
   "metadata": {},
   "outputs": [],
   "source": []
  },
  {
   "cell_type": "code",
   "execution_count": null,
   "id": "a0c115d4",
   "metadata": {},
   "outputs": [],
   "source": []
  },
  {
   "cell_type": "code",
   "execution_count": null,
   "id": "a2de7031",
   "metadata": {},
   "outputs": [],
   "source": []
  },
  {
   "cell_type": "code",
   "execution_count": null,
   "id": "0d558e35",
   "metadata": {},
   "outputs": [],
   "source": []
  },
  {
   "cell_type": "code",
   "execution_count": null,
   "id": "2d28372a",
   "metadata": {},
   "outputs": [],
   "source": []
  },
  {
   "cell_type": "code",
   "execution_count": null,
   "id": "ba82a5d9",
   "metadata": {},
   "outputs": [],
   "source": []
  },
  {
   "cell_type": "code",
   "execution_count": null,
   "id": "177934a6",
   "metadata": {},
   "outputs": [],
   "source": []
  },
  {
   "cell_type": "code",
   "execution_count": null,
   "id": "dac4611c",
   "metadata": {},
   "outputs": [],
   "source": []
  },
  {
   "cell_type": "code",
   "execution_count": null,
   "id": "907880dc",
   "metadata": {},
   "outputs": [],
   "source": []
  },
  {
   "cell_type": "code",
   "execution_count": null,
   "id": "b7556bd4",
   "metadata": {},
   "outputs": [],
   "source": []
  },
  {
   "cell_type": "code",
   "execution_count": null,
   "id": "be948ed0",
   "metadata": {},
   "outputs": [],
   "source": []
  },
  {
   "cell_type": "code",
   "execution_count": null,
   "id": "11821c2d",
   "metadata": {},
   "outputs": [],
   "source": []
  },
  {
   "cell_type": "code",
   "execution_count": null,
   "id": "640c1206",
   "metadata": {},
   "outputs": [],
   "source": []
  },
  {
   "cell_type": "code",
   "execution_count": null,
   "id": "dafb1f5c",
   "metadata": {},
   "outputs": [],
   "source": []
  },
  {
   "cell_type": "code",
   "execution_count": null,
   "id": "181662cb",
   "metadata": {},
   "outputs": [],
   "source": []
  },
  {
   "cell_type": "code",
   "execution_count": null,
   "id": "6f01328e",
   "metadata": {},
   "outputs": [],
   "source": []
  },
  {
   "cell_type": "code",
   "execution_count": null,
   "id": "6cc1613c",
   "metadata": {},
   "outputs": [],
   "source": []
  },
  {
   "cell_type": "code",
   "execution_count": null,
   "id": "04d1afb2",
   "metadata": {},
   "outputs": [],
   "source": []
  },
  {
   "cell_type": "code",
   "execution_count": null,
   "id": "914aad65",
   "metadata": {},
   "outputs": [],
   "source": []
  },
  {
   "cell_type": "code",
   "execution_count": null,
   "id": "64c8d372",
   "metadata": {},
   "outputs": [],
   "source": []
  },
  {
   "cell_type": "code",
   "execution_count": null,
   "id": "b4708d1a",
   "metadata": {},
   "outputs": [],
   "source": []
  }
 ],
 "metadata": {
  "kernelspec": {
   "display_name": "Python 3 (ipykernel)",
   "language": "python",
   "name": "python3"
  },
  "language_info": {
   "codemirror_mode": {
    "name": "ipython",
    "version": 3
   },
   "file_extension": ".py",
   "mimetype": "text/x-python",
   "name": "python",
   "nbconvert_exporter": "python",
   "pygments_lexer": "ipython3",
   "version": "3.11.5"
  }
 },
 "nbformat": 4,
 "nbformat_minor": 5
}
